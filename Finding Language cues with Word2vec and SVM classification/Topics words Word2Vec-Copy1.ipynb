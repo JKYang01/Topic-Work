{
 "cells": [
  {
   "cell_type": "code",
   "execution_count": 2,
   "metadata": {
    "colab": {},
    "colab_type": "code",
    "id": "mCJVLApysJxv"
   },
   "outputs": [],
   "source": [
    "import tensorflow as tf\n",
    "import pandas as pd\n",
    "%matplotlib inline"
   ]
  },
  {
   "cell_type": "code",
   "execution_count": 3,
   "metadata": {
    "colab": {
     "base_uri": "https://localhost:8080/",
     "height": 326
    },
    "colab_type": "code",
    "executionInfo": {
     "elapsed": 2433,
     "status": "ok",
     "timestamp": 1589259018743,
     "user": {
      "displayName": "Shloak Gupta",
      "photoUrl": "https://lh3.googleusercontent.com/a-/AOh14GhKiRGsfEvKglfpl9aE38E--r4MAqMipK28UVBVyQ=s64",
      "userId": "07086883988310421371"
     },
     "user_tz": 240
    },
    "id": "oZOemRSusv0Z",
    "outputId": "38357e66-8358-4082-ef69-887b9ffc5aa2"
   },
   "outputs": [
    {
     "name": "stderr",
     "output_type": "stream",
     "text": [
      "'wget' is not recognized as an internal or external command,\n",
      "operable program or batch file.\n",
      "'id' is not recognized as an internal or external command,\n",
      "operable program or batch file.\n"
     ]
    }
   ],
   "source": [
    "!wget --no-check-certificate 'https://docs.google.com/uc?export=download&id=1Ngwde6mziKecl_j2dCmyG5plFJ9XJzLS' -O \"one_hot_fb_post.csv\""
   ]
  },
  {
   "cell_type": "code",
   "execution_count": 4,
   "metadata": {
    "colab": {},
    "colab_type": "code",
    "id": "yqne3P282KZ7"
   },
   "outputs": [],
   "source": [
    "vocab_size = 2000\n",
    "embedding_dim = 12\n",
    "max_length = 300\n",
    "trunc_type='post'\n",
    "padding_type='post'\n",
    "oov_tok = \"<OOV>\"\n",
    "training_portion = 1.0"
   ]
  },
  {
   "cell_type": "code",
   "execution_count": 5,
   "metadata": {
    "colab": {
     "base_uri": "https://localhost:8080/",
     "height": 34
    },
    "colab_type": "code",
    "executionInfo": {
     "elapsed": 599,
     "status": "ok",
     "timestamp": 1589260222981,
     "user": {
      "displayName": "Shloak Gupta",
      "photoUrl": "https://lh3.googleusercontent.com/a-/AOh14GhKiRGsfEvKglfpl9aE38E--r4MAqMipK28UVBVyQ=s64",
      "userId": "07086883988310421371"
     },
     "user_tz": 240
    },
    "id": "1Q1Nl8U6AkcU",
    "outputId": "864fc67f-bd5e-4647-a5b8-a2087b87d842"
   },
   "outputs": [],
   "source": [
    "sentences = []\n",
    "labels = []\n",
    "stopwords = [ \"a\", \"about\", \"above\", \"after\", \"again\", \"against\", \"all\", \"am\", \"an\", \"and\", \"any\", \"are\", \"as\", \"at\", \"be\", \"because\", \"been\", \"before\", \"being\", \"below\", \"between\", \"both\", \"but\", \"by\", \"could\", \"did\", \"do\", \"does\", \"doing\", \"down\", \"during\", \"each\", \"few\", \"for\", \"from\", \"further\", \"had\", \"has\", \"have\", \"having\", \"he\", \"he'd\", \"he'll\", \"he's\", \"her\", \"here\", \"here's\", \"hers\", \"herself\", \"him\", \"himself\", \"his\", \"how\", \"how's\", \"i\", \"i'd\", \"i'll\", \"i'm\", \"i've\", \"if\", \"in\", \"into\", \"is\", \"it\", \"it's\", \"its\", \"itself\", \"let's\", \"me\", \"more\", \"most\", \"my\", \"myself\", \"nor\", \"of\", \"on\", \"once\", \"only\", \"or\", \"other\", \"ought\", \"our\", \"ours\", \"ourselves\", \"out\", \"over\", \"own\", \"same\", \"she\", \"she'd\", \"she'll\", \"she's\", \"should\", \"so\", \"some\", \"such\", \"than\", \"that\", \"that's\", \"the\", \"their\", \"theirs\", \"them\", \"themselves\", \"then\", \"there\", \"there's\", \"these\", \"they\", \"they'd\", \"they'll\", \"they're\", \"they've\", \"this\", \"those\", \"through\", \"to\", \"too\", \"under\", \"until\", \"up\", \"very\", \"was\", \"we\", \"we'd\", \"we'll\", \"we're\", \"we've\", \"were\", \"what\", \"what's\", \"when\", \"when's\", \"where\", \"where's\", \"which\", \"while\", \"who\", \"who's\", \"whom\", \"why\", \"why's\", \"with\", \"would\", \"you\", \"you'd\", \"you'll\", \"you're\", \"you've\", \"your\", \"yours\", \"yourself\", \"yourselves\" ]\n",
    "# print(len(stopwords))"
   ]
  },
  {
   "cell_type": "code",
   "execution_count": 6,
   "metadata": {
    "colab": {},
    "colab_type": "code",
    "id": "pLQJ-7ItAofc"
   },
   "outputs": [],
   "source": [
    "import csv\n",
    "with open(\"1500_FB_ads_GoldLabel.csv\", 'r') as csvfile:\n",
    "    reader = csv.reader(csvfile, delimiter=',')\n",
    "    next(reader)\n",
    "    for row in reader:\n",
    "        #print(row[8],row[12])\n",
    "        labels.append(str(row[10])) # the 10th categrey\n",
    "        sentence = row[0]\n",
    "        for word in stopwords:\n",
    "            token = \" \" + word + \" \"\n",
    "            sentence = sentence.replace(token, \" \")\n",
    "        sentences.append(sentence)"
   ]
  },
  {
   "cell_type": "code",
   "execution_count": 7,
   "metadata": {},
   "outputs": [
    {
     "data": {
      "text/plain": [
       "'gulf oman incident pretext war iran war unmitigated disaster united states iran region world unilateral attack iran illegal unconstitutional'"
      ]
     },
     "execution_count": 7,
     "metadata": {},
     "output_type": "execute_result"
    }
   ],
   "source": [
    "sentences[0]"
   ]
  },
  {
   "cell_type": "code",
   "execution_count": 8,
   "metadata": {},
   "outputs": [
    {
     "data": {
      "text/html": [
       "<div>\n",
       "<style scoped>\n",
       "    .dataframe tbody tr th:only-of-type {\n",
       "        vertical-align: middle;\n",
       "    }\n",
       "\n",
       "    .dataframe tbody tr th {\n",
       "        vertical-align: top;\n",
       "    }\n",
       "\n",
       "    .dataframe thead th {\n",
       "        text-align: right;\n",
       "    }\n",
       "</style>\n",
       "<table border=\"1\" class=\"dataframe\">\n",
       "  <thead>\n",
       "    <tr style=\"text-align: right;\">\n",
       "      <th></th>\n",
       "      <th>text</th>\n",
       "      <th>label</th>\n",
       "      <th>economic</th>\n",
       "      <th>environment</th>\n",
       "      <th>foreign policy</th>\n",
       "      <th>governance</th>\n",
       "      <th>immigration</th>\n",
       "      <th>military</th>\n",
       "      <th>safety</th>\n",
       "      <th>social programs</th>\n",
       "      <th>social and cultural</th>\n",
       "    </tr>\n",
       "  </thead>\n",
       "  <tbody>\n",
       "    <tr>\n",
       "      <td>0</td>\n",
       "      <td>gulf oman incident pretext war iran war unmiti...</td>\n",
       "      <td>foreign policy</td>\n",
       "      <td>0</td>\n",
       "      <td>0</td>\n",
       "      <td>1</td>\n",
       "      <td>0</td>\n",
       "      <td>0</td>\n",
       "      <td>0</td>\n",
       "      <td>0</td>\n",
       "      <td>0</td>\n",
       "      <td>0</td>\n",
       "    </tr>\n",
       "    <tr>\n",
       "      <td>1</td>\n",
       "      <td>girlboss love good conversation women sideline...</td>\n",
       "      <td>economic,social and cultural</td>\n",
       "      <td>1</td>\n",
       "      <td>0</td>\n",
       "      <td>0</td>\n",
       "      <td>0</td>\n",
       "      <td>0</td>\n",
       "      <td>0</td>\n",
       "      <td>0</td>\n",
       "      <td>0</td>\n",
       "      <td>1</td>\n",
       "    </tr>\n",
       "    <tr>\n",
       "      <td>2</td>\n",
       "      <td>problem massive urgent global climate change s...</td>\n",
       "      <td>environment</td>\n",
       "      <td>0</td>\n",
       "      <td>1</td>\n",
       "      <td>0</td>\n",
       "      <td>0</td>\n",
       "      <td>0</td>\n",
       "      <td>0</td>\n",
       "      <td>0</td>\n",
       "      <td>0</td>\n",
       "      <td>0</td>\n",
       "    </tr>\n",
       "    <tr>\n",
       "      <td>3</td>\n",
       "      <td>friend hope clear women history month matters ...</td>\n",
       "      <td>economic,social and cultural</td>\n",
       "      <td>1</td>\n",
       "      <td>0</td>\n",
       "      <td>0</td>\n",
       "      <td>0</td>\n",
       "      <td>0</td>\n",
       "      <td>0</td>\n",
       "      <td>0</td>\n",
       "      <td>0</td>\n",
       "      <td>1</td>\n",
       "    </tr>\n",
       "    <tr>\n",
       "      <td>4</td>\n",
       "      <td>ten days ll stage debate 2 3 democratic voters...</td>\n",
       "      <td>social programs</td>\n",
       "      <td>0</td>\n",
       "      <td>0</td>\n",
       "      <td>0</td>\n",
       "      <td>0</td>\n",
       "      <td>0</td>\n",
       "      <td>0</td>\n",
       "      <td>0</td>\n",
       "      <td>1</td>\n",
       "      <td>0</td>\n",
       "    </tr>\n",
       "  </tbody>\n",
       "</table>\n",
       "</div>"
      ],
      "text/plain": [
       "                                                text  \\\n",
       "0  gulf oman incident pretext war iran war unmiti...   \n",
       "1  girlboss love good conversation women sideline...   \n",
       "2  problem massive urgent global climate change s...   \n",
       "3  friend hope clear women history month matters ...   \n",
       "4  ten days ll stage debate 2 3 democratic voters...   \n",
       "\n",
       "                           label  economic  environment  foreign policy  \\\n",
       "0                 foreign policy         0            0               1   \n",
       "1   economic,social and cultural         1            0               0   \n",
       "2                    environment         0            1               0   \n",
       "3   economic,social and cultural         1            0               0   \n",
       "4                social programs         0            0               0   \n",
       "\n",
       "   governance  immigration  military  safety  social programs  \\\n",
       "0           0            0         0       0                0   \n",
       "1           0            0         0       0                0   \n",
       "2           0            0         0       0                0   \n",
       "3           0            0         0       0                0   \n",
       "4           0            0         0       0                1   \n",
       "\n",
       "   social and cultural  \n",
       "0                    0  \n",
       "1                    1  \n",
       "2                    0  \n",
       "3                    1  \n",
       "4                    0  "
      ]
     },
     "execution_count": 8,
     "metadata": {},
     "output_type": "execute_result"
    }
   ],
   "source": [
    "df = pd.read_csv('1500_FB_ads_GoldLabel.csv')\n",
    "df.head()"
   ]
  },
  {
   "cell_type": "code",
   "execution_count": 9,
   "metadata": {
    "colab": {
     "base_uri": "https://localhost:8080/",
     "height": 105
    },
    "colab_type": "code",
    "executionInfo": {
     "elapsed": 3967,
     "status": "ok",
     "timestamp": 1589260231012,
     "user": {
      "displayName": "Shloak Gupta",
      "photoUrl": "https://lh3.googleusercontent.com/a-/AOh14GhKiRGsfEvKglfpl9aE38E--r4MAqMipK28UVBVyQ=s64",
      "userId": "07086883988310421371"
     },
     "user_tz": 240
    },
    "id": "BZYxDqJiBqxd",
    "outputId": "b2460cf2-d7f3-49d3-c636-44369e278341"
   },
   "outputs": [
    {
     "name": "stdout",
     "output_type": "stream",
     "text": [
      "1499\n",
      "1499\n",
      "gulf oman incident pretext war iran war unmitigated disaster united states iran region world unilateral attack iran illegal unconstitutional\n",
      "0\n"
     ]
    }
   ],
   "source": [
    "train_sentences = sentences[:]\n",
    "train_labels = labels[:]\n",
    "\n",
    "print(len(train_sentences))\n",
    "print(len(train_labels))\n",
    "print(train_sentences[0])\n",
    "print(train_labels[0])"
   ]
  },
  {
   "cell_type": "code",
   "execution_count": 10,
   "metadata": {
    "colab": {},
    "colab_type": "code",
    "id": "8_ZbkmEdCd30"
   },
   "outputs": [],
   "source": [
    "from tensorflow.keras.preprocessing.text import Tokenizer\n",
    "from tensorflow.keras.preprocessing.sequence import pad_sequences\n",
    "tokenizer = Tokenizer(num_words = vocab_size, oov_token=oov_tok)\n",
    "tokenizer.fit_on_texts(train_sentences)\n",
    "word_index = tokenizer.word_index\n",
    "\n",
    "train_sequences = tokenizer.texts_to_sequences(train_sentences)\n",
    "train_padded = pad_sequences(train_sequences, padding=padding_type, maxlen=max_length)\n"
   ]
  },
  {
   "cell_type": "code",
   "execution_count": 11,
   "metadata": {
    "colab": {
     "base_uri": "https://localhost:8080/",
     "height": 85
    },
    "colab_type": "code",
    "executionInfo": {
     "elapsed": 1294,
     "status": "ok",
     "timestamp": 1589260233436,
     "user": {
      "displayName": "Shloak Gupta",
      "photoUrl": "https://lh3.googleusercontent.com/a-/AOh14GhKiRGsfEvKglfpl9aE38E--r4MAqMipK28UVBVyQ=s64",
      "userId": "07086883988310421371"
     },
     "user_tz": 240
    },
    "id": "U13TqWtbCnIo",
    "outputId": "45674aff-66c2-4657-ec25-53570cc79d49"
   },
   "outputs": [
    {
     "name": "stdout",
     "output_type": "stream",
     "text": [
      "[1]\n",
      "[2]\n",
      "[1]\n",
      "(1499, 1)\n"
     ]
    }
   ],
   "source": [
    "import numpy as np\n",
    "label_tokenizer = Tokenizer()\n",
    "label_tokenizer.fit_on_texts(labels)\n",
    "\n",
    "training_label_seq = np.array(label_tokenizer.texts_to_sequences(train_labels))\n",
    "\n",
    "\n",
    "print(training_label_seq[0])\n",
    "print(training_label_seq[1])\n",
    "print(training_label_seq[2])\n",
    "print(training_label_seq.shape)\n"
   ]
  },
  {
   "cell_type": "code",
   "execution_count": 12,
   "metadata": {
    "colab": {
     "base_uri": "https://localhost:8080/",
     "height": 102
    },
    "colab_type": "code",
    "executionInfo": {
     "elapsed": 630,
     "status": "ok",
     "timestamp": 1589260149765,
     "user": {
      "displayName": "Shloak Gupta",
      "photoUrl": "https://lh3.googleusercontent.com/a-/AOh14GhKiRGsfEvKglfpl9aE38E--r4MAqMipK28UVBVyQ=s64",
      "userId": "07086883988310421371"
     },
     "user_tz": 240
    },
    "id": "XTFXUwjhLvCA",
    "outputId": "4edad6cc-09a2-4a36-e269-fd3381c0a0f6"
   },
   "outputs": [
    {
     "name": "stdout",
     "output_type": "stream",
     "text": [
      "[1816    1    1    1  196  868  196    1  782  101   50  868 1285   82\n",
      "    1  305  868  974  869    0    0    0    0    0    0    0    0    0\n",
      "    0    0    0    0    0    0    0    0    0    0    0    0    0    0\n",
      "    0    0    0    0    0    0    0    0    0    0    0    0    0    0\n",
      "    0    0    0    0    0    0    0    0    0    0    0    0    0    0\n",
      "    0    0    0    0    0    0    0    0    0    0    0    0    0    0\n",
      "    0    0    0    0    0    0    0    0    0    0    0    0    0    0\n",
      "    0    0    0    0    0    0    0    0    0    0    0    0    0    0\n",
      "    0    0    0    0    0    0    0    0    0    0    0    0    0    0\n",
      "    0    0    0    0    0    0    0    0    0    0    0    0    0    0\n",
      "    0    0    0    0    0    0    0    0    0    0    0    0    0    0\n",
      "    0    0    0    0    0    0    0    0    0    0    0    0    0    0\n",
      "    0    0    0    0    0    0    0    0    0    0    0    0    0    0\n",
      "    0    0    0    0    0    0    0    0    0    0    0    0    0    0\n",
      "    0    0    0    0    0    0    0    0    0    0    0    0    0    0\n",
      "    0    0    0    0    0    0    0    0    0    0    0    0    0    0\n",
      "    0    0    0    0    0    0    0    0    0    0    0    0    0    0\n",
      "    0    0    0    0    0    0    0    0    0    0    0    0    0    0\n",
      "    0    0    0    0    0    0    0    0    0    0    0    0    0    0\n",
      "    0    0    0    0    0    0    0    0    0    0    0    0    0    0\n",
      "    0    0    0    0    0    0    0    0    0    0    0    0    0    0\n",
      "    0    0    0    0    0    0]\n",
      "[2]\n"
     ]
    }
   ],
   "source": [
    "print(train_padded[0])\n",
    "print(training_label_seq[1])"
   ]
  },
  {
   "cell_type": "code",
   "execution_count": 13,
   "metadata": {
    "colab": {
     "base_uri": "https://localhost:8080/",
     "height": 289
    },
    "colab_type": "code",
    "executionInfo": {
     "elapsed": 3274,
     "status": "ok",
     "timestamp": 1589260238745,
     "user": {
      "displayName": "Shloak Gupta",
      "photoUrl": "https://lh3.googleusercontent.com/a-/AOh14GhKiRGsfEvKglfpl9aE38E--r4MAqMipK28UVBVyQ=s64",
      "userId": "07086883988310421371"
     },
     "user_tz": 240
    },
    "id": "Yu_4pIgqCz29",
    "outputId": "1c9fc4c6-c6cc-416d-a625-68342ece5891"
   },
   "outputs": [
    {
     "name": "stdout",
     "output_type": "stream",
     "text": [
      "Model: \"sequential\"\n",
      "_________________________________________________________________\n",
      "Layer (type)                 Output Shape              Param #   \n",
      "=================================================================\n",
      "embedding (Embedding)        (None, 300, 12)           24000     \n",
      "_________________________________________________________________\n",
      "global_average_pooling1d (Gl (None, 12)                0         \n",
      "_________________________________________________________________\n",
      "dense (Dense)                (None, 24)                312       \n",
      "_________________________________________________________________\n",
      "dense_1 (Dense)              (None, 6)                 150       \n",
      "=================================================================\n",
      "Total params: 24,462\n",
      "Trainable params: 24,462\n",
      "Non-trainable params: 0\n",
      "_________________________________________________________________\n"
     ]
    }
   ],
   "source": [
    "model = tf.keras.Sequential([\n",
    "    tf.keras.layers.Embedding(vocab_size, embedding_dim, input_length=max_length),\n",
    "    tf.keras.layers.GlobalAveragePooling1D(),\n",
    "    tf.keras.layers.Dense(24, activation='relu'),\n",
    "    tf.keras.layers.Dense(6, activation='softmax')\n",
    "])\n",
    "model.compile(loss='sparse_categorical_crossentropy',optimizer='adam',metrics=['accuracy'])\n",
    "model.summary()\n"
   ]
  },
  {
   "cell_type": "code",
   "execution_count": 14,
   "metadata": {
    "colab": {
     "base_uri": "https://localhost:8080/",
     "height": 697
    },
    "colab_type": "code",
    "executionInfo": {
     "elapsed": 1822,
     "status": "ok",
     "timestamp": 1589260240575,
     "user": {
      "displayName": "Shloak Gupta",
      "photoUrl": "https://lh3.googleusercontent.com/a-/AOh14GhKiRGsfEvKglfpl9aE38E--r4MAqMipK28UVBVyQ=s64",
      "userId": "07086883988310421371"
     },
     "user_tz": 240
    },
    "id": "-D9P3jlxC3UV",
    "outputId": "bc99dfc7-20cc-4d37-a211-47b0511d40ea"
   },
   "outputs": [
    {
     "name": "stdout",
     "output_type": "stream",
     "text": [
      "Train on 1499 samples\n",
      "Epoch 1/20\n",
      "1499/1499 [==============================] - 1s 353us/sample - loss: 1.6438 - accuracy: 0.8286\n",
      "Epoch 2/20\n",
      "1499/1499 [==============================] - 0s 78us/sample - loss: 1.1636 - accuracy: 0.8659\n",
      "Epoch 3/20\n",
      "1499/1499 [==============================] - 0s 81us/sample - loss: 0.6183 - accuracy: 0.8659\n",
      "Epoch 4/20\n",
      "1499/1499 [==============================] - 0s 94us/sample - loss: 0.4628 - accuracy: 0.8659\n",
      "Epoch 5/20\n",
      "1499/1499 [==============================] - 0s 142us/sample - loss: 0.4287 - accuracy: 0.8659\n",
      "Epoch 6/20\n",
      "1499/1499 [==============================] - 0s 98us/sample - loss: 0.4125 - accuracy: 0.8659\n",
      "Epoch 7/20\n",
      "1499/1499 [==============================] - 0s 132us/sample - loss: 0.4035 - accuracy: 0.8659\n",
      "Epoch 8/20\n",
      "1499/1499 [==============================] - 0s 109us/sample - loss: 0.3981 - accuracy: 0.8659\n",
      "Epoch 9/20\n",
      "1499/1499 [==============================] - 0s 98us/sample - loss: 0.3947 - accuracy: 0.8659\n",
      "Epoch 10/20\n",
      "1499/1499 [==============================] - 0s 101us/sample - loss: 0.3927 - accuracy: 0.8659\n",
      "Epoch 11/20\n",
      "1499/1499 [==============================] - 0s 87us/sample - loss: 0.3903 - accuracy: 0.8659\n",
      "Epoch 12/20\n",
      "1499/1499 [==============================] - 0s 81us/sample - loss: 0.3886 - accuracy: 0.8659s - loss: 0.3712 - accuracy: 0.\n",
      "Epoch 13/20\n",
      "1499/1499 [==============================] - 0s 94us/sample - loss: 0.3871 - accuracy: 0.8659\n",
      "Epoch 14/20\n",
      "1499/1499 [==============================] - 0s 82us/sample - loss: 0.3869 - accuracy: 0.8659\n",
      "Epoch 15/20\n",
      "1499/1499 [==============================] - 0s 93us/sample - loss: 0.3851 - accuracy: 0.8659\n",
      "Epoch 16/20\n",
      "1499/1499 [==============================] - 0s 92us/sample - loss: 0.3834 - accuracy: 0.8659\n",
      "Epoch 17/20\n",
      "1499/1499 [==============================] - 0s 85us/sample - loss: 0.3828 - accuracy: 0.8659\n",
      "Epoch 18/20\n",
      "1499/1499 [==============================] - 0s 97us/sample - loss: 0.3816 - accuracy: 0.8659\n",
      "Epoch 19/20\n",
      "1499/1499 [==============================] - 0s 100us/sample - loss: 0.3812 - accuracy: 0.8659\n",
      "Epoch 20/20\n",
      "1499/1499 [==============================] - 0s 97us/sample - loss: 0.3793 - accuracy: 0.8659\n"
     ]
    }
   ],
   "source": [
    "num_epochs = 20\n",
    "history = model.fit(train_padded, training_label_seq, epochs=num_epochs, verbose=1)"
   ]
  },
  {
   "cell_type": "code",
   "execution_count": 15,
   "metadata": {
    "colab": {
     "base_uri": "https://localhost:8080/",
     "height": 543
    },
    "colab_type": "code",
    "executionInfo": {
     "elapsed": 706,
     "status": "ok",
     "timestamp": 1589260250579,
     "user": {
      "displayName": "Shloak Gupta",
      "photoUrl": "https://lh3.googleusercontent.com/a-/AOh14GhKiRGsfEvKglfpl9aE38E--r4MAqMipK28UVBVyQ=s64",
      "userId": "07086883988310421371"
     },
     "user_tz": 240
    },
    "id": "QcWfzA5KOs-Y",
    "outputId": "7f351cf9-270d-417a-803f-060dcacc3944"
   },
   "outputs": [
    {
     "data": {
      "image/png": "[encoded data removed]",
      "text/plain": [
       "<Figure size 432x288 with 1 Axes>"
      ]
     },
     "metadata": {
      "needs_background": "light"
     },
     "output_type": "display_data"
    },
    {
     "data": {
      "image/png": "[encoded data removed]",
      "text/plain": [
       "<Figure size 432x288 with 1 Axes>"
      ]
     },
     "metadata": {
      "needs_background": "light"
     },
     "output_type": "display_data"
    }
   ],
   "source": [
    "import matplotlib.pyplot as plt\n",
    "\n",
    "def plot_graphs(history, string):\n",
    "  plt.plot(history.history[string])\n",
    "  plt.xlabel(\"Epochs\")\n",
    "  plt.ylabel(string)\n",
    "  plt.show()\n",
    "  \n",
    "plot_graphs(history, \"accuracy\")\n",
    "plot_graphs(history, \"loss\")"
   ]
  },
  {
   "cell_type": "code",
   "execution_count": 16,
   "metadata": {
    "colab": {},
    "colab_type": "code",
    "id": "sHNaaxyRPW0Z"
   },
   "outputs": [],
   "source": [
    "reverse_word_index = dict([(value, key) for (key, value) in word_index.items()])\n",
    "\n",
    "def decode_sentence(text):\n",
    "    return ' '.join([reverse_word_index.get(i, '?') for i in text])"
   ]
  },
  {
   "cell_type": "code",
   "execution_count": 17,
   "metadata": {
    "colab": {
     "base_uri": "https://localhost:8080/",
     "height": 34
    },
    "colab_type": "code",
    "executionInfo": {
     "elapsed": 534,
     "status": "ok",
     "timestamp": 1589260256350,
     "user": {
      "displayName": "Shloak Gupta",
      "photoUrl": "https://lh3.googleusercontent.com/a-/AOh14GhKiRGsfEvKglfpl9aE38E--r4MAqMipK28UVBVyQ=s64",
      "userId": "07086883988310421371"
     },
     "user_tz": 240
    },
    "id": "ZQrcZeP8Pc47",
    "outputId": "efbde46e-8d9c-46bc-b9a0-5ee4217f7013"
   },
   "outputs": [
    {
     "name": "stdout",
     "output_type": "stream",
     "text": [
      "(2000, 12)\n"
     ]
    }
   ],
   "source": [
    "e = model.layers[0]\n",
    "weights = e.get_weights()[0]\n",
    "print(weights.shape) # shape: (vocab_size, embedding_dim)\n",
    "\n",
    "# Expected output\n",
    "# (1000, 16)"
   ]
  },
  {
   "cell_type": "code",
   "execution_count": 18,
   "metadata": {
    "colab": {},
    "colab_type": "code",
    "id": "559znWKFPhHO"
   },
   "outputs": [],
   "source": [
    "import io\n",
    "\n",
    "out_v = io.open('vecs8.tsv', 'w', encoding='utf-8')\n",
    "out_m = io.open('meta8.tsv', 'w', encoding='utf-8')\n",
    "for word_num in range(1, vocab_size):\n",
    "  word = reverse_word_index[word_num]\n",
    "  embeddings = weights[word_num]\n",
    "  out_m.write(word + \"\\n\")\n",
    "  out_v.write('\\t'.join([str(x) for x in embeddings]) + \"\\n\")\n",
    "out_v.close()\n",
    "out_m.close()"
   ]
  },
  {
   "cell_type": "code",
   "execution_count": 19,
   "metadata": {
    "colab": {},
    "colab_type": "code",
    "id": "ievJqxq0Pk6J"
   },
   "outputs": [],
   "source": [
    "try:\n",
    "  from google.colab import files\n",
    "except ImportError:\n",
    "  pass\n",
    "else:\n",
    "  files.download('vecs5.tsv')\n",
    "  files.download('meta5.tsv')"
   ]
  },
  {
   "cell_type": "code",
   "execution_count": null,
   "metadata": {},
   "outputs": [],
   "source": []
  }
 ],
 "metadata": {
  "colab": {
   "authorship_tag": "ABX9TyOVk49AM7iz6EleDfH3qgVD",
   "collapsed_sections": [],
   "name": "Topics.ipynb",
   "provenance": []
  },
  "kernelspec": {
   "display_name": "Python 3",
   "language": "python",
   "name": "python3"
  },
  "language_info": {
   "codemirror_mode": {
    "name": "ipython",
    "version": 3
   },
   "file_extension": ".py",
   "mimetype": "text/x-python",
   "name": "python",
   "nbconvert_exporter": "python",
   "pygments_lexer": "ipython3",
   "version": "3.7.4"
  }
 },
 "nbformat": 4,
 "nbformat_minor": 1
}
