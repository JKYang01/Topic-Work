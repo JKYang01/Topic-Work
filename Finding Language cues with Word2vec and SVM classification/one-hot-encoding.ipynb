{
 "cells": [
  {
   "cell_type": "code",
   "execution_count": 2,
   "metadata": {},
   "outputs": [],
   "source": [
    "import pandas as pd\n",
    "import numpy as np\n",
    "import re"
   ]
  },
  {
   "cell_type": "code",
   "execution_count": 3,
   "metadata": {},
   "outputs": [],
   "source": [
    "df1 = pd.read_excel('2020_fb_pres_1000_topic.xlsx')\n",
    "df2 = pd.read_excel('calculate_f1_1000ad.xlsx')\n",
    "df3 = pd.read_excel('500_ads_final_cleaned.xlsx')\n",
    "df4 = pd.read_excel('calculate_f1_500ad.xlsx')"
   ]
  },
  {
   "cell_type": "code",
   "execution_count": 9,
   "metadata": {},
   "outputs": [
    {
     "data": {
      "text/plain": [
       "Index(['_id', 'ad_creation_time', 'Unnamed: 2', 'ad_creative_link_caption',\n",
       "       'ad_creative_link_description', 'ad_creative_link_title',\n",
       "       'ad_delivery_start_time', 'ad_delivery_stop_time', 'ad_snapshot_url',\n",
       "       'currency', 'demographic_distribution', 'funding_entity', 'id',\n",
       "       'impressions', 'page_id', 'page_name', 'publisher_platforms',\n",
       "       'region_distribution', 'spend', 'ad_creative_body', 'attack', 'image',\n",
       "       'Gold Label'],\n",
       "      dtype='object')"
      ]
     },
     "execution_count": 9,
     "metadata": {},
     "output_type": "execute_result"
    }
   ],
   "source": [
    "df3.columns"
   ]
  },
  {
   "cell_type": "code",
   "execution_count": 10,
   "metadata": {
    "scrolled": true
   },
   "outputs": [
    {
     "data": {
      "text/plain": [
       "Index(['economic', 'environment', 'foreign policy', 'governance',\n",
       "       'immigration', 'military', 'safety', 'social programs',\n",
       "       'social and cultural', 'economic_pred', 'environment_pred',\n",
       "       'foreign policy_pred', 'governance_pred', 'immigration_pred',\n",
       "       'military_pred', 'safety_pred', 'social programs_pred',\n",
       "       'social and cultural_pred'],\n",
       "      dtype='object')"
      ]
     },
     "execution_count": 10,
     "metadata": {},
     "output_type": "execute_result"
    }
   ],
   "source": [
    "df4.columns"
   ]
  },
  {
   "cell_type": "code",
   "execution_count": 8,
   "metadata": {},
   "outputs": [
    {
     "data": {
      "text/html": [
       "<div>\n",
       "<style scoped>\n",
       "    .dataframe tbody tr th:only-of-type {\n",
       "        vertical-align: middle;\n",
       "    }\n",
       "\n",
       "    .dataframe tbody tr th {\n",
       "        vertical-align: top;\n",
       "    }\n",
       "\n",
       "    .dataframe thead th {\n",
       "        text-align: right;\n",
       "    }\n",
       "</style>\n",
       "<table border=\"1\" class=\"dataframe\">\n",
       "  <thead>\n",
       "    <tr style=\"text-align: right;\">\n",
       "      <th></th>\n",
       "      <th>text</th>\n",
       "      <th>label</th>\n",
       "    </tr>\n",
       "  </thead>\n",
       "  <tbody>\n",
       "    <tr>\n",
       "      <td>0</td>\n",
       "      <td>The Gulf of Oman incident must not be used as ...</td>\n",
       "      <td>foreign policy</td>\n",
       "    </tr>\n",
       "    <tr>\n",
       "      <td>1</td>\n",
       "      <td>Thanks for having me, Girlboss! I love a good ...</td>\n",
       "      <td>economic,social and cultural</td>\n",
       "    </tr>\n",
       "    <tr>\n",
       "      <td>2</td>\n",
       "      <td>For a problem as massive and urgent as global ...</td>\n",
       "      <td>environment</td>\n",
       "    </tr>\n",
       "    <tr>\n",
       "      <td>3</td>\n",
       "      <td>My friend Hope is very clear that women’s hist...</td>\n",
       "      <td>economic,social and cultural</td>\n",
       "    </tr>\n",
       "    <tr>\n",
       "      <td>4</td>\n",
       "      <td>In just ten days, I'll take the stage for the ...</td>\n",
       "      <td>social programs</td>\n",
       "    </tr>\n",
       "  </tbody>\n",
       "</table>\n",
       "</div>"
      ],
      "text/plain": [
       "                                                text  \\\n",
       "0  The Gulf of Oman incident must not be used as ...   \n",
       "1  Thanks for having me, Girlboss! I love a good ...   \n",
       "2  For a problem as massive and urgent as global ...   \n",
       "3  My friend Hope is very clear that women’s hist...   \n",
       "4  In just ten days, I'll take the stage for the ...   \n",
       "\n",
       "                           label  \n",
       "0                 foreign policy  \n",
       "1   economic,social and cultural  \n",
       "2                    environment  \n",
       "3   economic,social and cultural  \n",
       "4                social programs  "
      ]
     },
     "execution_count": 8,
     "metadata": {},
     "output_type": "execute_result"
    }
   ],
   "source": [
    "df1['label'] = df2['Gold Label']\n",
    "df1 = df1[['text','label']]\n",
    "df1.head()"
   ]
  },
  {
   "cell_type": "code",
   "execution_count": 13,
   "metadata": {},
   "outputs": [
    {
     "data": {
      "text/html": [
       "<div>\n",
       "<style scoped>\n",
       "    .dataframe tbody tr th:only-of-type {\n",
       "        vertical-align: middle;\n",
       "    }\n",
       "\n",
       "    .dataframe tbody tr th {\n",
       "        vertical-align: top;\n",
       "    }\n",
       "\n",
       "    .dataframe thead th {\n",
       "        text-align: right;\n",
       "    }\n",
       "</style>\n",
       "<table border=\"1\" class=\"dataframe\">\n",
       "  <thead>\n",
       "    <tr style=\"text-align: right;\">\n",
       "      <th></th>\n",
       "      <th>text</th>\n",
       "      <th>label</th>\n",
       "    </tr>\n",
       "  </thead>\n",
       "  <tbody>\n",
       "    <tr>\n",
       "      <td>0</td>\n",
       "      <td>Last quarter, Bernie Sanders, Pete Buttigieg a...</td>\n",
       "      <td>none</td>\n",
       "    </tr>\n",
       "    <tr>\n",
       "      <td>1</td>\n",
       "      <td>Every one of the Democratic candidates remaini...</td>\n",
       "      <td>none</td>\n",
       "    </tr>\n",
       "    <tr>\n",
       "      <td>2</td>\n",
       "      <td>A young woman came up to me after my speech in...</td>\n",
       "      <td>social programs</td>\n",
       "    </tr>\n",
       "    <tr>\n",
       "      <td>3</td>\n",
       "      <td>Como presidenta, Elizabeth proporcionarн_a el ...</td>\n",
       "      <td>Social Programs</td>\n",
       "    </tr>\n",
       "    <tr>\n",
       "      <td>4</td>\n",
       "      <td>Una cosa queda clara: ahorrar para una jubilac...</td>\n",
       "      <td>Social Programs</td>\n",
       "    </tr>\n",
       "  </tbody>\n",
       "</table>\n",
       "</div>"
      ],
      "text/plain": [
       "                                                text            label\n",
       "0  Last quarter, Bernie Sanders, Pete Buttigieg a...             none\n",
       "1  Every one of the Democratic candidates remaini...             none\n",
       "2  A young woman came up to me after my speech in...  social programs\n",
       "3  Como presidenta, Elizabeth proporcionarн_a el ...  Social Programs\n",
       "4  Una cosa queda clara: ahorrar para una jubilac...  Social Programs"
      ]
     },
     "execution_count": 13,
     "metadata": {},
     "output_type": "execute_result"
    }
   ],
   "source": [
    "df3 = df3[['ad_creative_body','Gold Label']]\n",
    "df3.rename(columns={'ad_creative_body':'text','Gold Label':'label'},inplace=True)\n",
    "df3.head()"
   ]
  },
  {
   "cell_type": "code",
   "execution_count": 14,
   "metadata": {},
   "outputs": [
    {
     "data": {
      "text/plain": [
       "(1499, 2)"
      ]
     },
     "execution_count": 14,
     "metadata": {},
     "output_type": "execute_result"
    }
   ],
   "source": [
    "df = pd.concat([df1,df3])\n",
    "df.shape"
   ]
  },
  {
   "cell_type": "code",
   "execution_count": 19,
   "metadata": {},
   "outputs": [],
   "source": [
    "# import the stop words from mallet\n",
    "stopwords = pd.read_csv(r'C:\\Users\\wangtao\\Documents\\Graviry_Spy Projects\\original data\\mallet.txt',sep=' ',header=None)\n",
    "stopwords = stopwords[0].tolist()"
   ]
  },
  {
   "cell_type": "code",
   "execution_count": 22,
   "metadata": {},
   "outputs": [],
   "source": [
    "def filtered (x):\n",
    "    # regular expression for url\n",
    "    #url = r'[https]{5}\\\\:\\\\/\\\\/([a-zA-Z]|[0-9])*(\\\\.([a-zA-Z]|[0-9])*)*(\\\\/([a-zA-Z]|[0-9])*)*\\\\s?'\n",
    "    #url = r'''(?i)\\b((?:https?://|www\\d{0,3}[.]|[a-z0-9.\\-]+[.][a-z]{2,4}/)(?:[^\\s()<>]+|\\(([^\\s()<>]+|(\\([^\\s()<>]+\\)))*\\))+(?:\\(([^\\s()<>]+|(\\([^\\s()<>]+\\)))*\\)|[^\\s`!()\\[\\]{};:'\".,<>?«»“”‘’]))'''\n",
    "    url = 'http[s]?://\\S+'\n",
    "    x = re.sub(url,'',x)\n",
    "    x = re.sub(\"[^\\w\\s]\",' ',x)\n",
    "    x = re.sub(\"\\s+\",' ',x)\n",
    "    \n",
    "    ls=[w.lower() for w in x.split() if w.lower() not in stopwords]\n",
    "    \n",
    "    return ' '.join(ls)\n",
    "    "
   ]
  },
  {
   "cell_type": "code",
   "execution_count": 15,
   "metadata": {},
   "outputs": [],
   "source": [
    "# df.to_excel('1500_FB_ads_GoldLabel.xlsx')"
   ]
  },
  {
   "cell_type": "code",
   "execution_count": 25,
   "metadata": {},
   "outputs": [],
   "source": [
    "df5['text'] = df5['text'].astype(str).apply(lambda x: filtered(x))"
   ]
  },
  {
   "cell_type": "code",
   "execution_count": 43,
   "metadata": {},
   "outputs": [],
   "source": [
    "# df5 = pd.read_excel('1500_FB_ads_GoldLabel.xlsx')\n",
    "df5 = pd.read_csv('1500_FB_ads_GoldLabel.csv')"
   ]
  },
  {
   "cell_type": "code",
   "execution_count": 44,
   "metadata": {},
   "outputs": [
    {
     "data": {
      "text/html": [
       "<div>\n",
       "<style scoped>\n",
       "    .dataframe tbody tr th:only-of-type {\n",
       "        vertical-align: middle;\n",
       "    }\n",
       "\n",
       "    .dataframe tbody tr th {\n",
       "        vertical-align: top;\n",
       "    }\n",
       "\n",
       "    .dataframe thead th {\n",
       "        text-align: right;\n",
       "    }\n",
       "</style>\n",
       "<table border=\"1\" class=\"dataframe\">\n",
       "  <thead>\n",
       "    <tr style=\"text-align: right;\">\n",
       "      <th></th>\n",
       "      <th>text</th>\n",
       "      <th>label</th>\n",
       "    </tr>\n",
       "  </thead>\n",
       "  <tbody>\n",
       "    <tr>\n",
       "      <td>0</td>\n",
       "      <td>gulf oman incident pretext war iran war unmiti...</td>\n",
       "      <td>foreign policy</td>\n",
       "    </tr>\n",
       "    <tr>\n",
       "      <td>1</td>\n",
       "      <td>girlboss love good conversation women sideline...</td>\n",
       "      <td>economic,social and cultural</td>\n",
       "    </tr>\n",
       "    <tr>\n",
       "      <td>2</td>\n",
       "      <td>problem massive urgent global climate change s...</td>\n",
       "      <td>environment</td>\n",
       "    </tr>\n",
       "    <tr>\n",
       "      <td>3</td>\n",
       "      <td>friend hope clear women history month matters ...</td>\n",
       "      <td>economic,social and cultural</td>\n",
       "    </tr>\n",
       "    <tr>\n",
       "      <td>4</td>\n",
       "      <td>ten days ll stage debate 2 3 democratic voters...</td>\n",
       "      <td>social programs</td>\n",
       "    </tr>\n",
       "  </tbody>\n",
       "</table>\n",
       "</div>"
      ],
      "text/plain": [
       "                                                text  \\\n",
       "0  gulf oman incident pretext war iran war unmiti...   \n",
       "1  girlboss love good conversation women sideline...   \n",
       "2  problem massive urgent global climate change s...   \n",
       "3  friend hope clear women history month matters ...   \n",
       "4  ten days ll stage debate 2 3 democratic voters...   \n",
       "\n",
       "                           label  \n",
       "0                 foreign policy  \n",
       "1   economic,social and cultural  \n",
       "2                    environment  \n",
       "3   economic,social and cultural  \n",
       "4                social programs  "
      ]
     },
     "execution_count": 44,
     "metadata": {},
     "output_type": "execute_result"
    }
   ],
   "source": [
    "df5.head()"
   ]
  },
  {
   "cell_type": "code",
   "execution_count": 45,
   "metadata": {},
   "outputs": [],
   "source": [
    "topics=['economic', 'environment', 'foreign policy', 'governance', 'immigration', 'military', 'safety','social programs', 'social and cultural']"
   ]
  },
  {
   "cell_type": "code",
   "execution_count": 46,
   "metadata": {},
   "outputs": [
    {
     "data": {
      "text/html": [
       "<div>\n",
       "<style scoped>\n",
       "    .dataframe tbody tr th:only-of-type {\n",
       "        vertical-align: middle;\n",
       "    }\n",
       "\n",
       "    .dataframe tbody tr th {\n",
       "        vertical-align: top;\n",
       "    }\n",
       "\n",
       "    .dataframe thead th {\n",
       "        text-align: right;\n",
       "    }\n",
       "</style>\n",
       "<table border=\"1\" class=\"dataframe\">\n",
       "  <thead>\n",
       "    <tr style=\"text-align: right;\">\n",
       "      <th></th>\n",
       "      <th>text</th>\n",
       "      <th>label</th>\n",
       "      <th>economic</th>\n",
       "      <th>environment</th>\n",
       "      <th>foreign policy</th>\n",
       "      <th>governance</th>\n",
       "      <th>immigration</th>\n",
       "      <th>military</th>\n",
       "      <th>safety</th>\n",
       "      <th>social programs</th>\n",
       "      <th>social and cultural</th>\n",
       "    </tr>\n",
       "  </thead>\n",
       "  <tbody>\n",
       "    <tr>\n",
       "      <td>1494</td>\n",
       "      <td>medicare ensure granite stater covered costs w...</td>\n",
       "      <td>economic, social programs</td>\n",
       "      <td>0</td>\n",
       "      <td>0</td>\n",
       "      <td>0</td>\n",
       "      <td>0</td>\n",
       "      <td>0</td>\n",
       "      <td>0</td>\n",
       "      <td>0</td>\n",
       "      <td>0</td>\n",
       "      <td>0</td>\n",
       "    </tr>\n",
       "    <tr>\n",
       "      <td>1495</td>\n",
       "      <td>america that???? working thinner thinner slice...</td>\n",
       "      <td>no topic</td>\n",
       "      <td>0</td>\n",
       "      <td>0</td>\n",
       "      <td>0</td>\n",
       "      <td>0</td>\n",
       "      <td>0</td>\n",
       "      <td>0</td>\n",
       "      <td>0</td>\n",
       "      <td>0</td>\n",
       "      <td>0</td>\n",
       "    </tr>\n",
       "    <tr>\n",
       "      <td>1496</td>\n",
       "      <td>election lobbyists billionaires buy politician...</td>\n",
       "      <td>governance</td>\n",
       "      <td>0</td>\n",
       "      <td>0</td>\n",
       "      <td>0</td>\n",
       "      <td>0</td>\n",
       "      <td>0</td>\n",
       "      <td>0</td>\n",
       "      <td>0</td>\n",
       "      <td>0</td>\n",
       "      <td>0</td>\n",
       "    </tr>\n",
       "    <tr>\n",
       "      <td>1497</td>\n",
       "      <td>system money influence helped stage secrecy le...</td>\n",
       "      <td>foreign policy, governance</td>\n",
       "      <td>0</td>\n",
       "      <td>0</td>\n",
       "      <td>0</td>\n",
       "      <td>0</td>\n",
       "      <td>0</td>\n",
       "      <td>0</td>\n",
       "      <td>0</td>\n",
       "      <td>0</td>\n",
       "      <td>0</td>\n",
       "    </tr>\n",
       "    <tr>\n",
       "      <td>1498</td>\n",
       "      <td>election lobbyists billionaires buy politician...</td>\n",
       "      <td>governance</td>\n",
       "      <td>0</td>\n",
       "      <td>0</td>\n",
       "      <td>0</td>\n",
       "      <td>0</td>\n",
       "      <td>0</td>\n",
       "      <td>0</td>\n",
       "      <td>0</td>\n",
       "      <td>0</td>\n",
       "      <td>0</td>\n",
       "    </tr>\n",
       "  </tbody>\n",
       "</table>\n",
       "</div>"
      ],
      "text/plain": [
       "                                                   text  \\\n",
       "1494  medicare ensure granite stater covered costs w...   \n",
       "1495  america that???? working thinner thinner slice...   \n",
       "1496  election lobbyists billionaires buy politician...   \n",
       "1497  system money influence helped stage secrecy le...   \n",
       "1498  election lobbyists billionaires buy politician...   \n",
       "\n",
       "                           label  economic  environment  foreign policy  \\\n",
       "1494   economic, social programs         0            0               0   \n",
       "1495                    no topic         0            0               0   \n",
       "1496                  governance         0            0               0   \n",
       "1497  foreign policy, governance         0            0               0   \n",
       "1498                  governance         0            0               0   \n",
       "\n",
       "      governance  immigration  military  safety  social programs  \\\n",
       "1494           0            0         0       0                0   \n",
       "1495           0            0         0       0                0   \n",
       "1496           0            0         0       0                0   \n",
       "1497           0            0         0       0                0   \n",
       "1498           0            0         0       0                0   \n",
       "\n",
       "      social and cultural  \n",
       "1494                    0  \n",
       "1495                    0  \n",
       "1496                    0  \n",
       "1497                    0  \n",
       "1498                    0  "
      ]
     },
     "execution_count": 46,
     "metadata": {},
     "output_type": "execute_result"
    }
   ],
   "source": [
    "data0 = {x:np.zeros(1499,dtype=int) for x in topics}\n",
    "\n",
    "table0= pd.DataFrame(data0)\n",
    "\n",
    "df5 = pd.concat([df5,table0],axis=1)\n",
    "\n",
    "df5.tail()"
   ]
  },
  {
   "cell_type": "code",
   "execution_count": 47,
   "metadata": {},
   "outputs": [
    {
     "name": "stderr",
     "output_type": "stream",
     "text": [
      "C:\\Users\\wangtao\\Anaconda3\\lib\\site-packages\\ipykernel_launcher.py:6: SettingWithCopyWarning: \n",
      "A value is trying to be set on a copy of a slice from a DataFrame\n",
      "\n",
      "See the caveats in the documentation: http://pandas.pydata.org/pandas-docs/stable/user_guide/indexing.html#returning-a-view-versus-a-copy\n",
      "  \n",
      "C:\\Users\\wangtao\\Anaconda3\\lib\\site-packages\\ipykernel_launcher.py:11: SettingWithCopyWarning: \n",
      "A value is trying to be set on a copy of a slice from a DataFrame\n",
      "\n",
      "See the caveats in the documentation: http://pandas.pydata.org/pandas-docs/stable/user_guide/indexing.html#returning-a-view-versus-a-copy\n",
      "  # This is added back by InteractiveShellApp.init_path()\n"
     ]
    }
   ],
   "source": [
    "for index, row in df5.iterrows():\n",
    "    #print(index)\n",
    "    #print(row)\n",
    "    \n",
    "    if len(row['label'].split(',')) ==1 and row['label']!= 'no topic':\n",
    "        df5[row['label'].strip()][index]=1\n",
    "        \n",
    "    if len(row['label'].split(','))>1:\n",
    "        for w in row['label'].split(','):\n",
    "            #print(index)\n",
    "            df5[w.strip()][index]=1\n",
    "    \n",
    "    else: \n",
    "        pass"
   ]
  },
  {
   "cell_type": "code",
   "execution_count": 48,
   "metadata": {},
   "outputs": [
    {
     "data": {
      "text/html": [
       "<div>\n",
       "<style scoped>\n",
       "    .dataframe tbody tr th:only-of-type {\n",
       "        vertical-align: middle;\n",
       "    }\n",
       "\n",
       "    .dataframe tbody tr th {\n",
       "        vertical-align: top;\n",
       "    }\n",
       "\n",
       "    .dataframe thead th {\n",
       "        text-align: right;\n",
       "    }\n",
       "</style>\n",
       "<table border=\"1\" class=\"dataframe\">\n",
       "  <thead>\n",
       "    <tr style=\"text-align: right;\">\n",
       "      <th></th>\n",
       "      <th>text</th>\n",
       "      <th>label</th>\n",
       "      <th>economic</th>\n",
       "      <th>environment</th>\n",
       "      <th>foreign policy</th>\n",
       "      <th>governance</th>\n",
       "      <th>immigration</th>\n",
       "      <th>military</th>\n",
       "      <th>safety</th>\n",
       "      <th>social programs</th>\n",
       "      <th>social and cultural</th>\n",
       "    </tr>\n",
       "  </thead>\n",
       "  <tbody>\n",
       "    <tr>\n",
       "      <td>0</td>\n",
       "      <td>gulf oman incident pretext war iran war unmiti...</td>\n",
       "      <td>foreign policy</td>\n",
       "      <td>0</td>\n",
       "      <td>0</td>\n",
       "      <td>1</td>\n",
       "      <td>0</td>\n",
       "      <td>0</td>\n",
       "      <td>0</td>\n",
       "      <td>0</td>\n",
       "      <td>0</td>\n",
       "      <td>0</td>\n",
       "    </tr>\n",
       "    <tr>\n",
       "      <td>1</td>\n",
       "      <td>girlboss love good conversation women sideline...</td>\n",
       "      <td>economic,social and cultural</td>\n",
       "      <td>1</td>\n",
       "      <td>0</td>\n",
       "      <td>0</td>\n",
       "      <td>0</td>\n",
       "      <td>0</td>\n",
       "      <td>0</td>\n",
       "      <td>0</td>\n",
       "      <td>0</td>\n",
       "      <td>1</td>\n",
       "    </tr>\n",
       "    <tr>\n",
       "      <td>2</td>\n",
       "      <td>problem massive urgent global climate change s...</td>\n",
       "      <td>environment</td>\n",
       "      <td>0</td>\n",
       "      <td>1</td>\n",
       "      <td>0</td>\n",
       "      <td>0</td>\n",
       "      <td>0</td>\n",
       "      <td>0</td>\n",
       "      <td>0</td>\n",
       "      <td>0</td>\n",
       "      <td>0</td>\n",
       "    </tr>\n",
       "    <tr>\n",
       "      <td>3</td>\n",
       "      <td>friend hope clear women history month matters ...</td>\n",
       "      <td>economic,social and cultural</td>\n",
       "      <td>1</td>\n",
       "      <td>0</td>\n",
       "      <td>0</td>\n",
       "      <td>0</td>\n",
       "      <td>0</td>\n",
       "      <td>0</td>\n",
       "      <td>0</td>\n",
       "      <td>0</td>\n",
       "      <td>1</td>\n",
       "    </tr>\n",
       "    <tr>\n",
       "      <td>4</td>\n",
       "      <td>ten days ll stage debate 2 3 democratic voters...</td>\n",
       "      <td>social programs</td>\n",
       "      <td>0</td>\n",
       "      <td>0</td>\n",
       "      <td>0</td>\n",
       "      <td>0</td>\n",
       "      <td>0</td>\n",
       "      <td>0</td>\n",
       "      <td>0</td>\n",
       "      <td>1</td>\n",
       "      <td>0</td>\n",
       "    </tr>\n",
       "  </tbody>\n",
       "</table>\n",
       "</div>"
      ],
      "text/plain": [
       "                                                text  \\\n",
       "0  gulf oman incident pretext war iran war unmiti...   \n",
       "1  girlboss love good conversation women sideline...   \n",
       "2  problem massive urgent global climate change s...   \n",
       "3  friend hope clear women history month matters ...   \n",
       "4  ten days ll stage debate 2 3 democratic voters...   \n",
       "\n",
       "                           label  economic  environment  foreign policy  \\\n",
       "0                 foreign policy         0            0               1   \n",
       "1   economic,social and cultural         1            0               0   \n",
       "2                    environment         0            1               0   \n",
       "3   economic,social and cultural         1            0               0   \n",
       "4                social programs         0            0               0   \n",
       "\n",
       "   governance  immigration  military  safety  social programs  \\\n",
       "0           0            0         0       0                0   \n",
       "1           0            0         0       0                0   \n",
       "2           0            0         0       0                0   \n",
       "3           0            0         0       0                0   \n",
       "4           0            0         0       0                1   \n",
       "\n",
       "   social and cultural  \n",
       "0                    0  \n",
       "1                    1  \n",
       "2                    0  \n",
       "3                    1  \n",
       "4                    0  "
      ]
     },
     "execution_count": 48,
     "metadata": {},
     "output_type": "execute_result"
    }
   ],
   "source": [
    "df5.head()"
   ]
  },
  {
   "cell_type": "code",
   "execution_count": 49,
   "metadata": {},
   "outputs": [],
   "source": [
    "# df5.to_csv('1500_FB_ads_GoldLabel.csv',index=False)"
   ]
  }
 ],
 "metadata": {
  "kernelspec": {
   "display_name": "Python 3",
   "language": "python",
   "name": "python3"
  },
  "language_info": {
   "codemirror_mode": {
    "name": "ipython",
    "version": 3
   },
   "file_extension": ".py",
   "mimetype": "text/x-python",
   "name": "python",
   "nbconvert_exporter": "python",
   "pygments_lexer": "ipython3",
   "version": "3.7.4"
  }
 },
 "nbformat": 4,
 "nbformat_minor": 2
}
