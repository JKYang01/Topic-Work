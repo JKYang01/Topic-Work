{
 "cells": [
  {
   "cell_type": "code",
   "execution_count": 44,
   "metadata": {},
   "outputs": [
    {
     "name": "stderr",
     "output_type": "stream",
     "text": [
      "[nltk_data] Downloading package stopwords to\n",
      "[nltk_data]     C:\\Users\\wangtao\\AppData\\Roaming\\nltk_data...\n",
      "[nltk_data]   Package stopwords is already up-to-date!\n"
     ]
    }
   ],
   "source": [
    "import pandas as pd\n",
    "from sklearn.feature_extraction.text import TfidfVectorizer\n",
    "import nltk\n",
    "nltk.download('stopwords')\n",
    "import numpy as np\n",
    "from nltk.corpus import stopwords\n",
    "stop_words = set(stopwords.words('english'))\n",
    "\n",
    "from sklearn.multiclass import OneVsRestClassifier\n",
    "from sklearn.svm import LinearSVC\n",
    "from sklearn.model_selection import cross_val_predict\n",
    "\n",
    "from sklearn.metrics import precision_recall_fscore_support\n",
    "import matplotlib.pyplot as plt\n",
    "from sklearn.feature_extraction.text import TfidfTransformer\n",
    "\n",
    "from sklearn.metrics import confusion_matrix\n"
   ]
  },
  {
   "cell_type": "code",
   "execution_count": 45,
   "metadata": {},
   "outputs": [
    {
     "data": {
      "text/plain": [
       "(1968, 13)"
      ]
     },
     "execution_count": 45,
     "metadata": {},
     "output_type": "execute_result"
    }
   ],
   "source": [
    "# df = pd.read_excel('FB2000_one_hot_post.xlsx')\n",
    "df = pd.read_excel('FB2000_one_hot_post.xlsx')\n",
    "df.shape"
   ]
  },
  {
   "cell_type": "code",
   "execution_count": 46,
   "metadata": {},
   "outputs": [
    {
     "data": {
      "text/html": [
       "<div>\n",
       "<style scoped>\n",
       "    .dataframe tbody tr th:only-of-type {\n",
       "        vertical-align: middle;\n",
       "    }\n",
       "\n",
       "    .dataframe tbody tr th {\n",
       "        vertical-align: top;\n",
       "    }\n",
       "\n",
       "    .dataframe thead th {\n",
       "        text-align: right;\n",
       "    }\n",
       "</style>\n",
       "<table border=\"1\" class=\"dataframe\">\n",
       "  <thead>\n",
       "    <tr style=\"text-align: right;\">\n",
       "      <th></th>\n",
       "      <th>text</th>\n",
       "      <th>covid</th>\n",
       "      <th>economic</th>\n",
       "      <th>education</th>\n",
       "      <th>environmental</th>\n",
       "      <th>foreign policy</th>\n",
       "      <th>governance</th>\n",
       "      <th>health</th>\n",
       "      <th>immigration</th>\n",
       "      <th>military</th>\n",
       "      <th>safety</th>\n",
       "      <th>social cultural</th>\n",
       "      <th>social programs</th>\n",
       "    </tr>\n",
       "  </thead>\n",
       "  <tbody>\n",
       "    <tr>\n",
       "      <td>0</td>\n",
       "      <td>last quarter bernie sanders pete buttigieg and...</td>\n",
       "      <td>0</td>\n",
       "      <td>0</td>\n",
       "      <td>0</td>\n",
       "      <td>0</td>\n",
       "      <td>0</td>\n",
       "      <td>0</td>\n",
       "      <td>0</td>\n",
       "      <td>0</td>\n",
       "      <td>0</td>\n",
       "      <td>0</td>\n",
       "      <td>0</td>\n",
       "      <td>0</td>\n",
       "    </tr>\n",
       "    <tr>\n",
       "      <td>1</td>\n",
       "      <td>every one of the democratic candidates remaini...</td>\n",
       "      <td>0</td>\n",
       "      <td>0</td>\n",
       "      <td>0</td>\n",
       "      <td>0</td>\n",
       "      <td>0</td>\n",
       "      <td>0</td>\n",
       "      <td>0</td>\n",
       "      <td>0</td>\n",
       "      <td>0</td>\n",
       "      <td>0</td>\n",
       "      <td>0</td>\n",
       "      <td>0</td>\n",
       "    </tr>\n",
       "    <tr>\n",
       "      <td>2</td>\n",
       "      <td>a young woman came up to me after my speech in...</td>\n",
       "      <td>0</td>\n",
       "      <td>0</td>\n",
       "      <td>1</td>\n",
       "      <td>0</td>\n",
       "      <td>0</td>\n",
       "      <td>0</td>\n",
       "      <td>0</td>\n",
       "      <td>0</td>\n",
       "      <td>0</td>\n",
       "      <td>0</td>\n",
       "      <td>0</td>\n",
       "      <td>1</td>\n",
       "    </tr>\n",
       "    <tr>\n",
       "      <td>3</td>\n",
       "      <td>como presidenta elizabeth proporcionarн_a el m...</td>\n",
       "      <td>0</td>\n",
       "      <td>0</td>\n",
       "      <td>0</td>\n",
       "      <td>0</td>\n",
       "      <td>0</td>\n",
       "      <td>0</td>\n",
       "      <td>0</td>\n",
       "      <td>0</td>\n",
       "      <td>0</td>\n",
       "      <td>0</td>\n",
       "      <td>0</td>\n",
       "      <td>1</td>\n",
       "    </tr>\n",
       "    <tr>\n",
       "      <td>4</td>\n",
       "      <td>una cosa queda clara ahorrar para una jubilaci...</td>\n",
       "      <td>0</td>\n",
       "      <td>0</td>\n",
       "      <td>0</td>\n",
       "      <td>0</td>\n",
       "      <td>0</td>\n",
       "      <td>0</td>\n",
       "      <td>0</td>\n",
       "      <td>0</td>\n",
       "      <td>0</td>\n",
       "      <td>0</td>\n",
       "      <td>0</td>\n",
       "      <td>1</td>\n",
       "    </tr>\n",
       "  </tbody>\n",
       "</table>\n",
       "</div>"
      ],
      "text/plain": [
       "                                                text  covid  economic  \\\n",
       "0  last quarter bernie sanders pete buttigieg and...      0         0   \n",
       "1  every one of the democratic candidates remaini...      0         0   \n",
       "2  a young woman came up to me after my speech in...      0         0   \n",
       "3  como presidenta elizabeth proporcionarн_a el m...      0         0   \n",
       "4  una cosa queda clara ahorrar para una jubilaci...      0         0   \n",
       "\n",
       "   education  environmental  foreign policy  governance  health  immigration  \\\n",
       "0          0              0               0           0       0            0   \n",
       "1          0              0               0           0       0            0   \n",
       "2          1              0               0           0       0            0   \n",
       "3          0              0               0           0       0            0   \n",
       "4          0              0               0           0       0            0   \n",
       "\n",
       "   military  safety  social cultural  social programs  \n",
       "0         0       0                0                0  \n",
       "1         0       0                0                0  \n",
       "2         0       0                0                1  \n",
       "3         0       0                0                1  \n",
       "4         0       0                0                1  "
      ]
     },
     "execution_count": 46,
     "metadata": {},
     "output_type": "execute_result"
    }
   ],
   "source": [
    "df.head()"
   ]
  },
  {
   "cell_type": "code",
   "execution_count": 47,
   "metadata": {},
   "outputs": [
    {
     "name": "stdout",
     "output_type": "stream",
     "text": [
      "['covid', 'economic', 'education', 'environmental', 'foreign policy', 'governance', 'health', 'immigration', 'military', 'safety', 'social cultural', 'social programs']\n"
     ]
    }
   ],
   "source": [
    "categories = list(df.columns.values)\n",
    "categories = categories[1:]\n",
    "print(categories)"
   ]
  },
  {
   "cell_type": "code",
   "execution_count": 48,
   "metadata": {},
   "outputs": [
    {
     "data": {
      "text/plain": [
       "(1962, 13)"
      ]
     },
     "execution_count": 48,
     "metadata": {},
     "output_type": "execute_result"
    }
   ],
   "source": [
    "df = df.dropna(subset = ['text'])\n",
    "df.shape"
   ]
  },
  {
   "cell_type": "code",
   "execution_count": 49,
   "metadata": {},
   "outputs": [
    {
     "name": "stdout",
     "output_type": "stream",
     "text": [
      "           category  number of comments\n",
      "0             covid                  40\n",
      "1          economic                 386\n",
      "2         education                 122\n",
      "3     environmental                 131\n",
      "4    foreign policy                  70\n",
      "5        governance                 190\n",
      "6            health                 214\n",
      "7       immigration                  90\n",
      "8          military                  50\n",
      "9            safety                 164\n",
      "10  social cultural                 253\n",
      "11  social programs                 181\n"
     ]
    }
   ],
   "source": [
    "#no of comments in each category\n",
    "counts = []\n",
    "for category in categories:\n",
    "    counts.append((category, df[category].sum()))\n",
    "df_stats = pd.DataFrame(counts, columns=['category', 'number of comments'])\n",
    "print(df_stats)"
   ]
  },
  {
   "cell_type": "code",
   "execution_count": 50,
   "metadata": {},
   "outputs": [
    {
     "data": {
      "text/plain": [
       "<1962x6229 sparse matrix of type '<class 'numpy.float64'>'\n",
       "\twith 18281 stored elements in Compressed Sparse Row format>"
      ]
     },
     "execution_count": 50,
     "metadata": {},
     "output_type": "execute_result"
    }
   ],
   "source": [
    "train = df.text\n",
    "vect = TfidfVectorizer(stop_words = stop_words,ngram_range=(2, 3),min_df = 2)\n",
    "vect.fit(train)\n",
    "X_trans = vect.transform(train)\n",
    "X_trans"
   ]
  },
  {
   "cell_type": "code",
   "execution_count": 51,
   "metadata": {},
   "outputs": [],
   "source": [
    "import json \n",
    "# with open ('2019_public_comment.json','w') as f1:\n",
    "#     json.dump(dic,f1)\n",
    "# with open ('2020_may30_lexiconV1.json') as f1:\n",
    "#     dic = json.load(f1)\n",
    "# with open ('2020_june_lexiconV3_4.json') as f1:\n",
    "with open ('2020_june_lexiconV4_5.json') as f1:\n",
    "    dic = json.load(f1)"
   ]
  },
  {
   "cell_type": "code",
   "execution_count": 52,
   "metadata": {},
   "outputs": [],
   "source": [
    "unigramtopic_dict = {}\n",
    "ngramtopic_dict = {}\n",
    "\n",
    "for key, value in dic.items():\n",
    "    ngramlist=[]\n",
    "    unigramlist=[]\n",
    "    for v in value:\n",
    "        if ' ' in v or '-' in v or '/' in v:\n",
    "            ngramlist.append(v)\n",
    "        if not ' ' in v and not '-' in v and not '/' in v :\n",
    "            unigramlist.append(v)\n",
    "    \n",
    "    unigramtopic_dict[key] = unigramlist\n",
    "    ngramtopic_dict[key] = ngramlist\n",
    "\n",
    "# unigramtopic_dict"
   ]
  },
  {
   "cell_type": "code",
   "execution_count": 53,
   "metadata": {},
   "outputs": [],
   "source": [
    "def plot_coefficients(classifier, feature_names, top_features=20):\n",
    "    coef = classifier.coef_.ravel()\n",
    "    # print(coef[0])\n",
    "    # print(sorted(coef)[-20:])\n",
    "    top_positive_coefficients = np.argsort(coef)[-top_features:] # argsort return the index of the features\n",
    " #print(top_positive_coefficients)\n",
    "    top_negative_coefficients = np.argsort(coef)[:top_features]\n",
    "    top_coefficients = np.hstack([top_negative_coefficients, top_positive_coefficients])\n",
    " # create plot\n",
    "    #plt.figure(figsize=(15, 5))\n",
    "    #colors = ['red'if c < 0 else 'blue' for c in coef[top_coefficients]]\n",
    "    #plt.bar(np.arange(2 * top_features), coef[top_coefficients], color=colors)\n",
    "    feature_names = np.array(feature_names)\n",
    "    # print(top_positive_coefficients)\n",
    "    return (feature_names[top_positive_coefficients])\n",
    " \n",
    "    \n",
    "#     plt.xticks(np.arange(1, 1 + 2 * top_features), feature_names[top_coefficients], rotation=60, ha='right')\n",
    "#     plt.show()"
   ]
  },
  {
   "cell_type": "code",
   "execution_count": 56,
   "metadata": {},
   "outputs": [
    {
     "name": "stdout",
     "output_type": "stream",
     "text": [
      "\n",
      "\n",
      "covid\n",
      "precision = 0.7405419222903886 Recall =  0.5367195629552549 F1 = 0.5600600937282777\n",
      "True Negative = 1919 False Positive = 3 False Negative = 37 True Poistive =  3\n",
      "18\n",
      "['invisible enemy', 'progress made', 'public health', 'congress act', 'crisis donald', 'crisis donald trump', 'much better', '40 000', 'protect working', '10 months', 'days new', 'administration failure', 'country world', 'front lines crisis', 'lines crisis', 'two months', 'could make', 'health officials']\n",
      "\n",
      "\n",
      "economic\n",
      "precision = 0.8199394649401112 Recall =  0.6261490360590201 F1 = 0.6558127282605672\n",
      "True Negative = 1549 False Positive = 27 False Negative = 282 True Poistive =  104\n",
      "15\n",
      "['democrat party', 'tax cuts', 'help people', 'got plan', 'stock market', 'last year', 'teachers value', 'transition new', 'unemployment rate', 'american families', 'economy works', 'working people', 'minimum wage', 'working families', 'wall street']\n",
      "\n",
      "\n",
      "education\n",
      "precision = 0.9600491137802576 Recall =  0.6226790805416964 F1 = 0.6837474846740605\n",
      "True Negative = 1839 False Positive = 1 False Negative = 92 True Poistive =  30\n",
      "18\n",
      "['brown board', 'zip code', 'students need', 'billion hbcus', 'denver teachers', 'education health', 'education health care', 'historically black', 'betsy devos', 'student loans', 'ensure teachers', 'mental health', 'children investing', 'higher education', 'student loan debt', 'loan debt', 'teachers value', 'student loan']\n",
      "\n",
      "\n",
      "environmental\n",
      "precision = 0.9599338400346552 Recall =  0.7434555846928013 F1 = 0.8138388718098863\n",
      "True Negative = 1828 False Positive = 3 False Negative = 67 True Poistive =  64\n",
      "11\n",
      "['millions millions', 'big oil', 'social justice', 'must act', 'gold standard', 'making decisions', 'told must', 'administration continues', 'climate action', 'truth climate', 'clean energy']\n",
      "\n",
      "\n",
      "foreign policy\n",
      "precision = 0.8540103475363654 Recall =  0.5986786469344609 F1 = 0.6493503069012496\n",
      "True Negative = 1887 False Positive = 5 False Negative = 56 True Poistive =  14\n",
      "17\n",
      "['united states', 'held hostage', 'new zealand', 'hate senseless', 'health officials', 'time congress', 'future presidents', 'regime change', 'two months', 'rule law', 'based religion', 'phase two', 'nowarwithiran standwithtulsi', 'recent weeks', 'administration done', 'america first', 'foreign policy']\n",
      "\n",
      "\n",
      "governance\n",
      "precision = 0.843013720548822 Recall =  0.5764078650350482 F1 = 0.6081356252696019\n",
      "True Negative = 1763 False Positive = 9 False Negative = 160 True Poistive =  30\n",
      "8\n",
      "['michael cohen', 'federal employees', 'never even', 'one ever', 'end shutdown', 'witch hunt', 'andy mccabe', 'adam schiff']\n",
      "\n",
      "\n",
      "health\n",
      "precision = 0.9231079265562023 Recall =  0.6641716033277016 F1 = 0.7234797858121855\n",
      "True Negative = 1742 False Positive = 6 False Negative = 143 True Poistive =  71\n",
      "17\n",
      "['american society', 'lines crisis', 'front lines crisis', 'women health', 'half million', 'help heal', 'two months', 'public health', 'roe wade', 'health officials', 'could make', 'insurance companies', 'covid 19', 'medical care', 'high quality', 'health insurance', 'mental health']\n",
      "\n",
      "\n",
      "immigration\n",
      "precision = 0.938076923076923 Recall =  0.5608440170940171 F1 = 0.597377412503463\n",
      "True Negative = 1871 False Positive = 1 False Negative = 79 True Poistive =  11\n",
      "14\n",
      "['healthcare immigration', 'ports entry', 'rights must', 'based religion', 'spending time', 'immigrant rights', 'immigrant children', 'border wall', 'immigrant communities', 'democrats must', 'treated dignity', 'human beings', 'immigration agenda', 'wall built']\n",
      "\n",
      "\n",
      "military\n",
      "precision = 0.8215746421267893 Recall =  0.5394769874476988 F1 = 0.5652238144482198\n",
      "True Negative = 1910 False Positive = 2 False Negative = 46 True Poistive =  4\n",
      "13\n",
      "['tim ryan', 'trump wins', 'would get', 'nuclear weapons', 'tomorrow night', 'endless war', 'memorial day', 'men women', 'nation president', 'unintended consequences', 'self serving', 'recent weeks', 'help heal']\n",
      "\n",
      "\n",
      "safety\n",
      "precision = 0.9221505506161554 Recall =  0.6660144062508478 F1 = 0.7288997026223304\n",
      "True Negative = 1792 False Positive = 6 False Negative = 109 True Poistive =  55\n",
      "15\n",
      "['tomorrow night', 'water supply', 'el paso', 'safety reform', 'youду sign', 'today remember', 'nra need', 'background checks', 'legalizing marijuana', 'detention centers', 'assault weapons', 'gun safety', 'justice system', 'sexual assault', 'law enforcement']\n",
      "\n",
      "\n",
      "social cultural\n",
      "precision = 0.8519342726239278 Recall =  0.618141112963918 F1 = 0.659219911974503\n",
      "True Negative = 1694 False Positive = 15 False Negative = 191 True Poistive =  62\n",
      "14\n",
      "['unemployment rate', 'immigration agenda', 'billion hbcus', 'legalizing marijuana', 'president fight', 'treated dignity', 'conversion therapy', 'black brown', 'color skin', 'based religion', 'black community', 'hate crimes', 'reproductive rights', 'civil rights']\n",
      "\n",
      "\n",
      "social programs\n",
      "precision = 0.8878017409678678 Recall =  0.6571328417519489 F1 = 0.7137637452367991\n",
      "True Negative = 1770 False Positive = 11 False Negative = 123 True Poistive =  58\n",
      "9\n",
      "['medical care', 'decent housing', 'billion hbcus', 'left right', 'family leave', 'public schools', 'insurance companies', 'high quality', 'mental health']\n"
     ]
    }
   ],
   "source": [
    "orc = OneVsRestClassifier(LinearSVC(max_iter=1000),n_jobs=1)\n",
    "\n",
    "for category in categories:\n",
    "    orc.fit(X_trans, df[category])\n",
    "    prediction = cross_val_predict(orc, X_trans, df[category],cv=5)\n",
    "   #print(prediction.mean())\n",
    "   #prediction = orc.predict(X_test_trans)\n",
    "    print('\\n')\n",
    "    print(category)\n",
    "   #print('accuracy is {}'.format(accuracy_score(df[category], prediction)))\n",
    "    p,r,f1,x = precision_recall_fscore_support(df[category], prediction, average='macro')\n",
    "    print(\"precision =\",p,\"Recall = \",r,\"F1 =\", f1) \n",
    "    tn,fp,fn,tp = confusion_matrix(df[category],prediction).ravel()\n",
    "    print(\"True Negative =\",tn,\"False Positive =\",fp,\"False Negative =\", fn,\"True Poistive = \",tp)\n",
    "    top_positives = plot_coefficients(orc, vect.get_feature_names())\n",
    "    if category: #!= 'governa nce':\n",
    "        l = []\n",
    "        for word in top_positives:\n",
    "            if word not in unigramtopic_dict[category] and word not in ngramtopic_dict[category]:\n",
    "                l.append(word)\n",
    "        print(len(l))\n",
    "        print(l)\n",
    "        \n",
    "\n"
   ]
  },
  {
   "cell_type": "markdown",
   "metadata": {},
   "source": [
    "## extract social programs"
   ]
  },
  {
   "cell_type": "code",
   "execution_count": 57,
   "metadata": {},
   "outputs": [
    {
     "data": {
      "text/plain": [
       "OneVsRestClassifier(estimator=LinearSVC(C=1.0, class_weight=None, dual=True,\n",
       "                                        fit_intercept=True, intercept_scaling=1,\n",
       "                                        loss='squared_hinge', max_iter=1000,\n",
       "                                        multi_class='ovr', penalty='l2',\n",
       "                                        random_state=None, tol=0.0001,\n",
       "                                        verbose=0),\n",
       "                    n_jobs=1)"
      ]
     },
     "execution_count": 57,
     "metadata": {},
     "output_type": "execute_result"
    }
   ],
   "source": [
    "# X_trans the vectorized text\n",
    "\n",
    "orc.fit(X_trans,df['social programs'])"
   ]
  },
  {
   "cell_type": "code",
   "execution_count": 58,
   "metadata": {},
   "outputs": [],
   "source": [
    "prediction = cross_val_predict(orc, X_trans, df[category],cv=5)"
   ]
  },
  {
   "cell_type": "code",
   "execution_count": 59,
   "metadata": {},
   "outputs": [
    {
     "name": "stdout",
     "output_type": "stream",
     "text": [
      "precision = 0.8878017409678678 Recall =  0.6571328417519489 F1 = 0.7137637452367991\n",
      "True Negative = 1770 False Positive = 11 False Negative = 123 True Poistive =  58\n"
     ]
    }
   ],
   "source": [
    "p,r,f1,x = precision_recall_fscore_support(df[category], prediction, average='macro')\n",
    "print(\"precision =\",p,\"Recall = \",r,\"F1 =\", f1)\n",
    "tn,fp,fn,tp = confusion_matrix(df[category],prediction).ravel()\n",
    "print(\"True Negative =\",tn,\"False Positive =\",fp,\"False Negative =\", fn,\"True Poistive = \",tp)"
   ]
  },
  {
   "cell_type": "code",
   "execution_count": 60,
   "metadata": {},
   "outputs": [
    {
     "name": "stdout",
     "output_type": "stream",
     "text": [
      "['today tomorrow', 'right privilege', 'playing field', 'need medicare', 'care act', 'medical bills', 'wealthy corporations', 'universal healthcare', 'medical care', 'decent housing', 'billion hbcus', 'left right', 'family leave', 'public schools', 'insurance companies', 'high quality', 'mental health']\n"
     ]
    }
   ],
   "source": [
    "top_positives = plot_coefficients(orc, vect.get_feature_names(),30)\n",
    "l=[]\n",
    "for word in top_positives:\n",
    "    if word not in unigramtopic_dict['social programs'] and word not in ngramtopic_dict['social programs']:\n",
    "        l.append(word)\n",
    "print(l)"
   ]
  },
  {
   "cell_type": "code",
   "execution_count": null,
   "metadata": {},
   "outputs": [],
   "source": []
  }
 ],
 "metadata": {
  "kernelspec": {
   "display_name": "Python 3",
   "language": "python",
   "name": "python3"
  },
  "language_info": {
   "codemirror_mode": {
    "name": "ipython",
    "version": 3
   },
   "file_extension": ".py",
   "mimetype": "text/x-python",
   "name": "python",
   "nbconvert_exporter": "python",
   "pygments_lexer": "ipython3",
   "version": "3.7.4"
  }
 },
 "nbformat": 4,
 "nbformat_minor": 2
}
