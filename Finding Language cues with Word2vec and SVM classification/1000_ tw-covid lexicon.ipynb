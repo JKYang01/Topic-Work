{
 "cells": [
  {
   "cell_type": "code",
   "execution_count": 1,
   "metadata": {},
   "outputs": [],
   "source": [
    "import pandas as pd\n",
    "import numpy as np\n",
    "import csv\n",
    "import nltk\n",
    "import xml.etree.ElementTree as ET\n",
    "from nltk.util import everygrams\n",
    "\n",
    "import re"
   ]
  },
  {
   "cell_type": "code",
   "execution_count": 2,
   "metadata": {},
   "outputs": [],
   "source": [
    "# import parser\n",
    "import spacy \n",
    "from spacy.matcher import PhraseMatcher \n",
    "nlp = spacy.load('en_core_web_sm')\n",
    "matcher = PhraseMatcher(nlp.vocab)\n",
    "\n",
    "# terms would be each list in the dict"
   ]
  },
  {
   "cell_type": "code",
   "execution_count": 3,
   "metadata": {},
   "outputs": [],
   "source": [
    "import json \n",
    "# with open ('2020_covid_lexiconV1.json') as f1:\n",
    "#     dic = json.load(f1)\n",
    "    \n",
    "with open ('2020_covid_lexiconV2.json') as f1:\n",
    "    dic = json.load(f1)"
   ]
  },
  {
   "cell_type": "code",
   "execution_count": 4,
   "metadata": {},
   "outputs": [
    {
     "name": "stdout",
     "output_type": "stream",
     "text": [
      "['Covid']\n"
     ]
    }
   ],
   "source": [
    "print(sorted(dic))"
   ]
  },
  {
   "cell_type": "code",
   "execution_count": 36,
   "metadata": {},
   "outputs": [],
   "source": [
    "# import json\n",
    "# with open ('2019_public_comment.json','w') as f1:\n",
    "#     json.dump(dic,f1)"
   ]
  },
  {
   "cell_type": "code",
   "execution_count": 5,
   "metadata": {},
   "outputs": [],
   "source": [
    "from nltk.corpus import stopwords\n",
    "stopword = stopwords.words('english')"
   ]
  },
  {
   "cell_type": "code",
   "execution_count": 6,
   "metadata": {},
   "outputs": [],
   "source": [
    "df1 = pd.read_csv('twitter_posts_1000_05-30-2020.csv')\n",
    "# df1 = pd.read_excel('Facebook Ads Analysis.xlsx') # this data is coming from the facebook ad 2016 (the )"
   ]
  },
  {
   "cell_type": "code",
   "execution_count": 7,
   "metadata": {},
   "outputs": [
    {
     "data": {
      "text/plain": [
       "Index(['Unnamed: 0', '_id', 'candidate_name', 'created_at', 'favorite_count',\n",
       "       'reply_to', 'retweet_count', 'retweet_status', 'text',\n",
       "       'tw_account_handle', 'tweet_id'],\n",
       "      dtype='object')"
      ]
     },
     "execution_count": 7,
     "metadata": {},
     "output_type": "execute_result"
    }
   ],
   "source": [
    "df1.columns"
   ]
  },
  {
   "cell_type": "code",
   "execution_count": 8,
   "metadata": {},
   "outputs": [],
   "source": [
    "df1 = df1[['text']]\n",
    "df1['covid_label']=''"
   ]
  },
  {
   "cell_type": "code",
   "execution_count": 9,
   "metadata": {},
   "outputs": [],
   "source": [
    "def filter_text(x):\n",
    "    url = 'http[s]?://\\S+'\n",
    "    x = re.sub(url,'',x)\n",
    "    x = re.sub(\"[^\\w\\s]\",' ',x)\n",
    "    x = re.sub(\"\\s+\",' ',x)\n",
    "    \n",
    "    ls=[w for w in x.split() if w.lower() not in stopword]\n",
    "    \n",
    "    return ' '.join(ls)"
   ]
  },
  {
   "cell_type": "code",
   "execution_count": 10,
   "metadata": {},
   "outputs": [],
   "source": [
    "df1['text'] = df1['text'].apply(lambda x: filter_text(x))"
   ]
  },
  {
   "cell_type": "code",
   "execution_count": 11,
   "metadata": {},
   "outputs": [
    {
     "data": {
      "text/html": [
       "<div>\n",
       "<style scoped>\n",
       "    .dataframe tbody tr th:only-of-type {\n",
       "        vertical-align: middle;\n",
       "    }\n",
       "\n",
       "    .dataframe tbody tr th {\n",
       "        vertical-align: top;\n",
       "    }\n",
       "\n",
       "    .dataframe thead th {\n",
       "        text-align: right;\n",
       "    }\n",
       "</style>\n",
       "<table border=\"1\" class=\"dataframe\">\n",
       "  <thead>\n",
       "    <tr style=\"text-align: right;\">\n",
       "      <th></th>\n",
       "      <th>text</th>\n",
       "      <th>covid_label</th>\n",
       "    </tr>\n",
       "  </thead>\n",
       "  <tbody>\n",
       "    <tr>\n",
       "      <td>0</td>\n",
       "      <td>Sleepy Joe thought OK</td>\n",
       "      <td></td>\n",
       "    </tr>\n",
       "    <tr>\n",
       "      <td>1</td>\n",
       "      <td></td>\n",
       "      <td></td>\n",
       "    </tr>\n",
       "    <tr>\n",
       "      <td>2</td>\n",
       "      <td>individual Governors States local officials mu...</td>\n",
       "      <td></td>\n",
       "    </tr>\n",
       "    <tr>\n",
       "      <td>3</td>\n",
       "      <td>Thank Eli Lake</td>\n",
       "      <td></td>\n",
       "    </tr>\n",
       "    <tr>\n",
       "      <td>4</td>\n",
       "      <td>Welcome Jezebel blogger BernieSanders promises...</td>\n",
       "      <td></td>\n",
       "    </tr>\n",
       "    <tr>\n",
       "      <td>...</td>\n",
       "      <td>...</td>\n",
       "      <td>...</td>\n",
       "    </tr>\n",
       "    <tr>\n",
       "      <td>995</td>\n",
       "      <td>another clear warning sign needs done keep man...</td>\n",
       "      <td></td>\n",
       "    </tr>\n",
       "    <tr>\n",
       "      <td>996</td>\n",
       "      <td>LIVE Press Briefing Coronavirus Task Force</td>\n",
       "      <td></td>\n",
       "    </tr>\n",
       "    <tr>\n",
       "      <td>997</td>\n",
       "      <td>Newly Revealed Docs Support Flynn Innocence Ca...</td>\n",
       "      <td></td>\n",
       "    </tr>\n",
       "    <tr>\n",
       "      <td>998</td>\n",
       "      <td>yet read single Democrat leader OUTRAGED explo...</td>\n",
       "      <td></td>\n",
       "    </tr>\n",
       "    <tr>\n",
       "      <td>999</td>\n",
       "      <td>Looting protesting Burning local homes busines...</td>\n",
       "      <td></td>\n",
       "    </tr>\n",
       "  </tbody>\n",
       "</table>\n",
       "<p>1000 rows × 2 columns</p>\n",
       "</div>"
      ],
      "text/plain": [
       "                                                  text covid_label\n",
       "0                                Sleepy Joe thought OK            \n",
       "1                                                                 \n",
       "2    individual Governors States local officials mu...            \n",
       "3                                       Thank Eli Lake            \n",
       "4    Welcome Jezebel blogger BernieSanders promises...            \n",
       "..                                                 ...         ...\n",
       "995  another clear warning sign needs done keep man...            \n",
       "996         LIVE Press Briefing Coronavirus Task Force            \n",
       "997  Newly Revealed Docs Support Flynn Innocence Ca...            \n",
       "998  yet read single Democrat leader OUTRAGED explo...            \n",
       "999  Looting protesting Burning local homes busines...            \n",
       "\n",
       "[1000 rows x 2 columns]"
      ]
     },
     "execution_count": 11,
     "metadata": {},
     "output_type": "execute_result"
    }
   ],
   "source": [
    "df1"
   ]
  },
  {
   "cell_type": "code",
   "execution_count": 12,
   "metadata": {},
   "outputs": [],
   "source": [
    "def find_words(x,lexicon):\n",
    "    topics=['Covid']\n",
    "    \n",
    "    \n",
    "    doc = nlp(x)\n",
    "    words= []\n",
    "    for t in topics:\n",
    "        terms= lexicon[t]\n",
    "        patterns = [nlp.make_doc(text) for text in terms]\n",
    "        matcher.add(\"TerminologyList\", None, *patterns)\n",
    "        matches = matcher(doc)\n",
    "        for match_id, start,end in matches:\n",
    "            span = doc[start:end]\n",
    "            words.append(span.text)\n",
    "    words = list(set(words))\n",
    "            \n",
    "    return ','.join(words)\n",
    "        "
   ]
  },
  {
   "cell_type": "code",
   "execution_count": 13,
   "metadata": {},
   "outputs": [],
   "source": [
    "# find the words in each message\n",
    "def find_topic(x,lexicon):\n",
    "    topics=['Covid']\n",
    "    \n",
    "    if x=='':\n",
    "        return ''\n",
    "    \n",
    "    if x != '': \n",
    "        words = x.split(',')\n",
    "        labels = []\n",
    "        \n",
    "        for t in topics:            \n",
    "            terms = lexicon[t]\n",
    "            if set(words)&set(terms):\n",
    "                #print(t)\n",
    "                #print(set(words)&set(terms))\n",
    "                labels.append(t)\n",
    "                \n",
    "                #l = sorted(labels)\n",
    "        \n",
    "        return  ','.join(sorted(labels))\n",
    "                \n",
    "        #return ','.join(labels)\n",
    "            "
   ]
  },
  {
   "cell_type": "code",
   "execution_count": 14,
   "metadata": {},
   "outputs": [],
   "source": [
    "# get the new labels from classifer2 which depending on the updated lexicon\n",
    "df1['words'] = df1['text'].astype(str).apply(lambda x: find_words(x,dic))\n",
    "#df1.rename(columns={'m_label':'words'},inplace=True)"
   ]
  },
  {
   "cell_type": "code",
   "execution_count": 15,
   "metadata": {},
   "outputs": [
    {
     "data": {
      "text/html": [
       "<div>\n",
       "<style scoped>\n",
       "    .dataframe tbody tr th:only-of-type {\n",
       "        vertical-align: middle;\n",
       "    }\n",
       "\n",
       "    .dataframe tbody tr th {\n",
       "        vertical-align: top;\n",
       "    }\n",
       "\n",
       "    .dataframe thead th {\n",
       "        text-align: right;\n",
       "    }\n",
       "</style>\n",
       "<table border=\"1\" class=\"dataframe\">\n",
       "  <thead>\n",
       "    <tr style=\"text-align: right;\">\n",
       "      <th></th>\n",
       "      <th>text</th>\n",
       "      <th>covid_label</th>\n",
       "      <th>words</th>\n",
       "    </tr>\n",
       "  </thead>\n",
       "  <tbody>\n",
       "    <tr>\n",
       "      <td>990</td>\n",
       "      <td>much time sleep Thank</td>\n",
       "      <td></td>\n",
       "      <td></td>\n",
       "    </tr>\n",
       "    <tr>\n",
       "      <td>991</td>\n",
       "      <td>get crisis supporting vulnerable identified ne...</td>\n",
       "      <td></td>\n",
       "      <td>pandemic,essential</td>\n",
       "    </tr>\n",
       "    <tr>\n",
       "      <td>992</td>\n",
       "      <td>Emmieinthecity Michelle great idea Thank ensur...</td>\n",
       "      <td></td>\n",
       "      <td>masks</td>\n",
       "    </tr>\n",
       "    <tr>\n",
       "      <td>993</td>\n",
       "      <td>Mueller investigation viewed exposure truth Ob...</td>\n",
       "      <td></td>\n",
       "      <td></td>\n",
       "    </tr>\n",
       "    <tr>\n",
       "      <td>994</td>\n",
       "      <td>Reports H H Secretary AlexAzar going fired Fak...</td>\n",
       "      <td></td>\n",
       "      <td></td>\n",
       "    </tr>\n",
       "    <tr>\n",
       "      <td>995</td>\n",
       "      <td>another clear warning sign needs done keep man...</td>\n",
       "      <td></td>\n",
       "      <td></td>\n",
       "    </tr>\n",
       "    <tr>\n",
       "      <td>996</td>\n",
       "      <td>LIVE Press Briefing Coronavirus Task Force</td>\n",
       "      <td></td>\n",
       "      <td>Coronavirus</td>\n",
       "    </tr>\n",
       "    <tr>\n",
       "      <td>997</td>\n",
       "      <td>Newly Revealed Docs Support Flynn Innocence Ca...</td>\n",
       "      <td></td>\n",
       "      <td></td>\n",
       "    </tr>\n",
       "    <tr>\n",
       "      <td>998</td>\n",
       "      <td>yet read single Democrat leader OUTRAGED explo...</td>\n",
       "      <td></td>\n",
       "      <td></td>\n",
       "    </tr>\n",
       "    <tr>\n",
       "      <td>999</td>\n",
       "      <td>Looting protesting Burning local homes busines...</td>\n",
       "      <td></td>\n",
       "      <td></td>\n",
       "    </tr>\n",
       "  </tbody>\n",
       "</table>\n",
       "</div>"
      ],
      "text/plain": [
       "                                                  text covid_label  \\\n",
       "990                              much time sleep Thank               \n",
       "991  get crisis supporting vulnerable identified ne...               \n",
       "992  Emmieinthecity Michelle great idea Thank ensur...               \n",
       "993  Mueller investigation viewed exposure truth Ob...               \n",
       "994  Reports H H Secretary AlexAzar going fired Fak...               \n",
       "995  another clear warning sign needs done keep man...               \n",
       "996         LIVE Press Briefing Coronavirus Task Force               \n",
       "997  Newly Revealed Docs Support Flynn Innocence Ca...               \n",
       "998  yet read single Democrat leader OUTRAGED explo...               \n",
       "999  Looting protesting Burning local homes busines...               \n",
       "\n",
       "                  words  \n",
       "990                      \n",
       "991  pandemic,essential  \n",
       "992               masks  \n",
       "993                      \n",
       "994                      \n",
       "995                      \n",
       "996         Coronavirus  \n",
       "997                      \n",
       "998                      \n",
       "999                      "
      ]
     },
     "execution_count": 15,
     "metadata": {},
     "output_type": "execute_result"
    }
   ],
   "source": [
    "df1.tail(10)"
   ]
  },
  {
   "cell_type": "code",
   "execution_count": 16,
   "metadata": {},
   "outputs": [],
   "source": [
    "df1['covid_label'] = df1['words'].apply(lambda x: find_topic(x,dic))"
   ]
  },
  {
   "cell_type": "code",
   "execution_count": 17,
   "metadata": {},
   "outputs": [],
   "source": [
    "df1['covid_label'] = df1['covid_label'].apply(lambda x: 'no topic' if x=='' else x)"
   ]
  },
  {
   "cell_type": "code",
   "execution_count": 18,
   "metadata": {},
   "outputs": [
    {
     "data": {
      "text/html": [
       "<div>\n",
       "<style scoped>\n",
       "    .dataframe tbody tr th:only-of-type {\n",
       "        vertical-align: middle;\n",
       "    }\n",
       "\n",
       "    .dataframe tbody tr th {\n",
       "        vertical-align: top;\n",
       "    }\n",
       "\n",
       "    .dataframe thead th {\n",
       "        text-align: right;\n",
       "    }\n",
       "</style>\n",
       "<table border=\"1\" class=\"dataframe\">\n",
       "  <thead>\n",
       "    <tr style=\"text-align: right;\">\n",
       "      <th></th>\n",
       "      <th>text</th>\n",
       "      <th>covid_label</th>\n",
       "      <th>words</th>\n",
       "    </tr>\n",
       "  </thead>\n",
       "  <tbody>\n",
       "    <tr>\n",
       "      <td>0</td>\n",
       "      <td>Sleepy Joe thought OK</td>\n",
       "      <td>no topic</td>\n",
       "      <td></td>\n",
       "    </tr>\n",
       "    <tr>\n",
       "      <td>1</td>\n",
       "      <td></td>\n",
       "      <td>no topic</td>\n",
       "      <td></td>\n",
       "    </tr>\n",
       "    <tr>\n",
       "      <td>2</td>\n",
       "      <td>individual Governors States local officials mu...</td>\n",
       "      <td>Covid</td>\n",
       "      <td>testing</td>\n",
       "    </tr>\n",
       "    <tr>\n",
       "      <td>3</td>\n",
       "      <td>Thank Eli Lake</td>\n",
       "      <td>no topic</td>\n",
       "      <td></td>\n",
       "    </tr>\n",
       "    <tr>\n",
       "      <td>4</td>\n",
       "      <td>Welcome Jezebel blogger BernieSanders promises...</td>\n",
       "      <td>no topic</td>\n",
       "      <td></td>\n",
       "    </tr>\n",
       "    <tr>\n",
       "      <td>5</td>\n",
       "      <td>extraordinary moment American world history go...</td>\n",
       "      <td>no topic</td>\n",
       "      <td></td>\n",
       "    </tr>\n",
       "    <tr>\n",
       "      <td>6</td>\n",
       "      <td>Expand vote mail early voting Implement online...</td>\n",
       "      <td>no topic</td>\n",
       "      <td></td>\n",
       "    </tr>\n",
       "    <tr>\n",
       "      <td>7</td>\n",
       "      <td>Today remember atrocities faced Armenian peopl...</td>\n",
       "      <td>no topic</td>\n",
       "      <td></td>\n",
       "    </tr>\n",
       "    <tr>\n",
       "      <td>8</td>\n",
       "      <td>realDonaldTrump Correct 15 days keep high risk...</td>\n",
       "      <td>no topic</td>\n",
       "      <td></td>\n",
       "    </tr>\n",
       "    <tr>\n",
       "      <td>9</td>\n",
       "      <td>South Korea continues show signs epidemic abat...</td>\n",
       "      <td>Covid</td>\n",
       "      <td>infected patients,isolating,virus,testing</td>\n",
       "    </tr>\n",
       "  </tbody>\n",
       "</table>\n",
       "</div>"
      ],
      "text/plain": [
       "                                                text covid_label  \\\n",
       "0                              Sleepy Joe thought OK    no topic   \n",
       "1                                                       no topic   \n",
       "2  individual Governors States local officials mu...       Covid   \n",
       "3                                     Thank Eli Lake    no topic   \n",
       "4  Welcome Jezebel blogger BernieSanders promises...    no topic   \n",
       "5  extraordinary moment American world history go...    no topic   \n",
       "6  Expand vote mail early voting Implement online...    no topic   \n",
       "7  Today remember atrocities faced Armenian peopl...    no topic   \n",
       "8  realDonaldTrump Correct 15 days keep high risk...    no topic   \n",
       "9  South Korea continues show signs epidemic abat...       Covid   \n",
       "\n",
       "                                       words  \n",
       "0                                             \n",
       "1                                             \n",
       "2                                    testing  \n",
       "3                                             \n",
       "4                                             \n",
       "5                                             \n",
       "6                                             \n",
       "7                                             \n",
       "8                                             \n",
       "9  infected patients,isolating,virus,testing  "
      ]
     },
     "execution_count": 18,
     "metadata": {},
     "output_type": "execute_result"
    }
   ],
   "source": [
    "df1.head(10)"
   ]
  },
  {
   "cell_type": "code",
   "execution_count": 19,
   "metadata": {},
   "outputs": [],
   "source": [
    "df1.to_csv('2020may30_1000_tw_CovidLabel_V4.csv',index=False)"
   ]
  },
  {
   "cell_type": "code",
   "execution_count": null,
   "metadata": {},
   "outputs": [],
   "source": []
  }
 ],
 "metadata": {
  "kernelspec": {
   "display_name": "Python 3",
   "language": "python",
   "name": "python3"
  },
  "language_info": {
   "codemirror_mode": {
    "name": "ipython",
    "version": 3
   },
   "file_extension": ".py",
   "mimetype": "text/x-python",
   "name": "python",
   "nbconvert_exporter": "python",
   "pygments_lexer": "ipython3",
   "version": "3.7.4"
  }
 },
 "nbformat": 4,
 "nbformat_minor": 2
}
