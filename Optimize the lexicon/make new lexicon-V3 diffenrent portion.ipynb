{
 "cells": [
  {
   "cell_type": "code",
   "execution_count": 1,
   "metadata": {},
   "outputs": [],
   "source": [
    "import pandas as pd\n",
    "import numpy as np\n",
    "import json\n"
   ]
  },
  {
   "cell_type": "markdown",
   "metadata": {},
   "source": [
    "## Lexicon V3_x, making"
   ]
  },
  {
   "cell_type": "code",
   "execution_count": 3,
   "metadata": {},
   "outputs": [],
   "source": [
    "# with open ('2019_public_comment.json','r') as f:\n",
    "#     lexicon = json.load(f)\n",
    "\n",
    "with open ('2020_june_lexiconV3.json','r') as f:\n",
    "    orig_lex = json.load(f)\n",
    "    \n",
    "with open ('lexiconV3_deletewordsTagRate.json','r') as f1:\n",
    "    tag_rate = json.load(f1)\n",
    "\n",
    "    \n",
    "with open ('remove_V3.json','r') as f2:\n",
    "    remove_lex = json.load(f2)"
   ]
  },
  {
   "cell_type": "code",
   "execution_count": 22,
   "metadata": {
    "collapsed": true
   },
   "outputs": [
    {
     "data": {
      "text/plain": [
       "{'covid': ['health care workers',\n",
       "  'epidemic',\n",
       "  'isolate',\n",
       "  'who',\n",
       "  'caresact',\n",
       "  'china',\n",
       "  'plague',\n",
       "  'testing'],\n",
       " 'economic': ['corporations',\n",
       "  'businesses',\n",
       "  'jobs',\n",
       "  'economy',\n",
       "  'workers',\n",
       "  'economic',\n",
       "  'expenditure',\n",
       "  'consumer',\n",
       "  'regulators',\n",
       "  'tax',\n",
       "  'economies',\n",
       "  'federal workers',\n",
       "  'labor',\n",
       "  'giant corporations',\n",
       "  'middle class',\n",
       "  'wealthy'],\n",
       " 'education': ['college', 'school', 'education'],\n",
       " 'environmental': ['climate crisis',\n",
       "  'new deal',\n",
       "  'flint',\n",
       "  'clean',\n",
       "  'climate change',\n",
       "  'green new',\n",
       "  'flooding',\n",
       "  'environmental concerns',\n",
       "  'big oil',\n",
       "  'clean water',\n",
       "  'climate action',\n",
       "  'clean energy',\n",
       "  'keystone pipeline',\n",
       "  'oil',\n",
       "  'pipeline',\n",
       "  'planet',\n",
       "  'protecting',\n",
       "  'energy',\n",
       "  'climate',\n",
       "  'green',\n",
       "  'sustainable',\n",
       "  'serious environmental',\n",
       "  'scientists',\n",
       "  'green new deal',\n",
       "  'fuel',\n",
       "  'science',\n",
       "  'keystone'],\n",
       " 'foreign policy': ['trade deal',\n",
       "  'commander-in-chief',\n",
       "  'russia',\n",
       "  'foreign',\n",
       "  'u.s. military',\n",
       "  'foothold',\n",
       "  'iran',\n",
       "  'defeat isis',\n",
       "  'china',\n",
       "  'ukraine',\n",
       "  'isis',\n",
       "  'regime',\n",
       "  'afghanistan',\n",
       "  'diplomatic'],\n",
       " 'governance': ['transparency',\n",
       "  'voting rights',\n",
       "  'lobbyists',\n",
       "  'potus',\n",
       "  'candidate',\n",
       "  'scotus',\n",
       "  'elections',\n",
       "  'impeach',\n",
       "  'my plan',\n",
       "  'root out corruption',\n",
       "  'corrupt',\n",
       "  'grassroots movement',\n",
       "  'pacs',\n",
       "  'when i m president',\n",
       "  'fraud',\n",
       "  'campaign',\n",
       "  'primary',\n",
       "  'impeachment',\n",
       "  'voting rights act',\n",
       "  'debate stage',\n",
       "  'inaugural committee',\n",
       "  'right vote',\n",
       "  'debate',\n",
       "  'corporate interests',\n",
       "  'above the law',\n",
       "  'corruption',\n",
       "  'congress',\n",
       "  'senator',\n",
       "  'supreme court',\n",
       "  'barr',\n",
       "  'comprehensive plan',\n",
       "  'supreme court justice'],\n",
       " 'health': ['treatment',\n",
       "  'healthcare',\n",
       "  'health',\n",
       "  'depression',\n",
       "  'pregnant',\n",
       "  'health care',\n",
       "  'mental health'],\n",
       " 'immigration': ['daca', 'immigration plan', 'immigration', 'new american'],\n",
       " 'military': ['veterans',\n",
       "  'militarily',\n",
       "  'u.s. military',\n",
       "  'military',\n",
       "  'va',\n",
       "  'regime',\n",
       "  'pow'],\n",
       " 'safety': ['officers',\n",
       "  'america safe',\n",
       "  'gun',\n",
       "  'assault',\n",
       "  'gun violence',\n",
       "  'criminal justice',\n",
       "  'drugs',\n",
       "  'surveillance',\n",
       "  'law enforcement',\n",
       "  'criminal justice system',\n",
       "  'criminal'],\n",
       " 'social cultural': ['african american',\n",
       "  'latinos',\n",
       "  'gender',\n",
       "  'voting rights act',\n",
       "  'racist',\n",
       "  'color',\n",
       "  'voting rights',\n",
       "  'muslim'],\n",
       " 'social programs': ['underinsured',\n",
       "  'college',\n",
       "  'healthcare',\n",
       "  'health care',\n",
       "  'mental health',\n",
       "  'child care',\n",
       "  'alzheimer']}"
      ]
     },
     "execution_count": 22,
     "metadata": {},
     "output_type": "execute_result"
    }
   ],
   "source": [
    "remove_lex"
   ]
  },
  {
   "cell_type": "code",
   "execution_count": 59,
   "metadata": {},
   "outputs": [],
   "source": [
    "lexicon={}\n",
    "\n",
    "for key,value in orig_lex.items():\n",
    "    v = remove_lex[key]\n",
    "    n_value = list(set(value).difference(set(v)))\n",
    "    d = {key:n_value}\n",
    "    lexicon.update(d)"
   ]
  },
  {
   "cell_type": "code",
   "execution_count": 24,
   "metadata": {},
   "outputs": [
    {
     "data": {
      "text/plain": [
       "['k-12 education',\n",
       " 'student debt',\n",
       " 'cancel student loan debt',\n",
       " 'hbcus',\n",
       " 'school infrastructure',\n",
       " 'social emotional learning',\n",
       " 'loans',\n",
       " 'tutor',\n",
       " 'english language learners',\n",
       " 'free college tuition',\n",
       " 'high school',\n",
       " 'students low income',\n",
       " 'students schools',\n",
       " 'school service personnel',\n",
       " 'student',\n",
       " 'minority serving institutions',\n",
       " 'borrowers',\n",
       " 'graduation',\n",
       " 'public schools',\n",
       " 'students color',\n",
       " 'college student',\n",
       " 'supports teachers',\n",
       " 'pre-school',\n",
       " 'debt financed education',\n",
       " 'lgbtq students',\n",
       " 'early education',\n",
       " 'public education',\n",
       " 'teachers',\n",
       " 'student loan borrowers',\n",
       " 'special education',\n",
       " 'default',\n",
       " 'immigrant students',\n",
       " 'school climate']"
      ]
     },
     "execution_count": 24,
     "metadata": {},
     "output_type": "execute_result"
    }
   ],
   "source": [
    "lexicon['education']"
   ]
  },
  {
   "cell_type": "code",
   "execution_count": 6,
   "metadata": {},
   "outputs": [
    {
     "data": {
      "text/plain": [
       "440"
      ]
     },
     "execution_count": 6,
     "metadata": {},
     "output_type": "execute_result"
    }
   ],
   "source": [
    "len(orig_lex['economic'])"
   ]
  },
  {
   "cell_type": "code",
   "execution_count": 7,
   "metadata": {},
   "outputs": [
    {
     "data": {
      "text/plain": [
       "{'college': 0.75, 'education': 0.875, 'school': 0.7}"
      ]
     },
     "execution_count": 7,
     "metadata": {},
     "output_type": "execute_result"
    }
   ],
   "source": [
    "tag_rate['education']"
   ]
  },
  {
   "cell_type": "code",
   "execution_count": 8,
   "metadata": {},
   "outputs": [],
   "source": [
    "ls_50={}\n",
    "ls_60={}\n",
    "ls_70={}\n",
    "ls_80={}\n",
    "#ls_90={}\n",
    "for key,value in tag_rate.items():\n",
    "    l_50 = []\n",
    "    l_60 = []\n",
    "    l_70 = []\n",
    "    l_80 = []\n",
    "    for k,v in value.items():\n",
    "        if v>=0.5:\n",
    "            l_50.append(k)\n",
    "        if v>=0.6:\n",
    "            l_60.append(k)\n",
    "        \n",
    "        if v>=0.7:\n",
    "            l_70.append(k)\n",
    "        \n",
    "        if v>=0.8:\n",
    "            l_80.append(k)\n",
    "    \n",
    "    ls_50.update({key:l_50})\n",
    "    ls_60.update({key:l_60})\n",
    "    ls_70.update({key:l_70})\n",
    "    ls_80.update({key:l_80})\n",
    "\n",
    "            "
   ]
  },
  {
   "cell_type": "code",
   "execution_count": 51,
   "metadata": {},
   "outputs": [],
   "source": [
    "\n",
    "ls_75={}\n",
    "\n",
    "for key,value in tag_rate.items():\n",
    "    l_75 = []\n",
    "    for k,v in value.items():        \n",
    "        if v>=0.75:\n",
    "            l_75.append(k)\n",
    "    \n",
    "    ls_75.update({key:l_75})\n"
   ]
  },
  {
   "cell_type": "code",
   "execution_count": 52,
   "metadata": {},
   "outputs": [
    {
     "data": {
      "text/plain": [
       "{'covid': ['testing'],\n",
       " 'economic': ['economic', 'economy', 'jobs', 'middle class', 'wealthy'],\n",
       " 'education': ['college', 'education'],\n",
       " 'environmental': ['climate',\n",
       "  'climate change',\n",
       "  'climate crisis',\n",
       "  'fuel',\n",
       "  'planet'],\n",
       " 'foreign policy': ['foreign'],\n",
       " 'governance': ['impeach', 'impeachment'],\n",
       " 'health': ['health', 'health care', 'healthcare'],\n",
       " 'immigration': ['immigration'],\n",
       " 'military': ['military'],\n",
       " 'safety': ['criminal justice', 'gun'],\n",
       " 'social cultural': ['color', 'latinos'],\n",
       " 'social programs': ['college', 'health care', 'healthcare']}"
      ]
     },
     "execution_count": 52,
     "metadata": {},
     "output_type": "execute_result"
    }
   ],
   "source": [
    "ls_75"
   ]
  },
  {
   "cell_type": "code",
   "execution_count": 41,
   "metadata": {},
   "outputs": [],
   "source": [
    "lexicon80 = lexicon\n",
    "lexicon70 = lexicon\n",
    "lexicon60 = lexicon\n",
    "lexicon50 = lexicon"
   ]
  },
  {
   "cell_type": "code",
   "execution_count": 60,
   "metadata": {},
   "outputs": [],
   "source": [
    "lexicon75 = lexicon"
   ]
  },
  {
   "cell_type": "code",
   "execution_count": 61,
   "metadata": {},
   "outputs": [],
   "source": [
    "for key,value in ls_75.items():\n",
    "    for k,v in lexicon75.items():\n",
    "        if k==key:\n",
    "            v.extend(value)\n",
    "            \n",
    "with open ('2020_june_lexiconV3_6.json','w') as f2:\n",
    "    json.dump(lexicon75,f2,sort_keys=True, indent=4)"
   ]
  },
  {
   "cell_type": "code",
   "execution_count": 38,
   "metadata": {},
   "outputs": [],
   "source": [
    "for key,value in ls_80.items():\n",
    "    for k,v in lexicon80.items():\n",
    "        if k==key:\n",
    "            v.extend(value)"
   ]
  },
  {
   "cell_type": "code",
   "execution_count": 40,
   "metadata": {},
   "outputs": [],
   "source": [
    "with open ('2020_june_lexiconV3_2.json','w') as f2:\n",
    "    json.dump(lexicon80,f2,sort_keys=True, indent=4)"
   ]
  },
  {
   "cell_type": "code",
   "execution_count": 43,
   "metadata": {},
   "outputs": [],
   "source": [
    "for key,value in ls_70.items():\n",
    "    for k,v in lexicon70.items():\n",
    "        if k==key:\n",
    "            v.extend(value)\n"
   ]
  },
  {
   "cell_type": "code",
   "execution_count": 44,
   "metadata": {},
   "outputs": [],
   "source": [
    "with open ('2020_june_lexiconV3_3.json','w') as f2:\n",
    "    json.dump(lexicon70,f2,sort_keys=True, indent=4)"
   ]
  },
  {
   "cell_type": "code",
   "execution_count": 45,
   "metadata": {},
   "outputs": [],
   "source": [
    "for key,value in ls_60.items():\n",
    "    for k,v in lexicon60.items():\n",
    "        if k==key:\n",
    "            v.extend(value)"
   ]
  },
  {
   "cell_type": "code",
   "execution_count": 46,
   "metadata": {},
   "outputs": [],
   "source": [
    "with open ('2020_june_lexiconV3_4.json','w') as f2:\n",
    "    json.dump(lexicon60,f2,sort_keys=True, indent=4)"
   ]
  },
  {
   "cell_type": "code",
   "execution_count": 47,
   "metadata": {},
   "outputs": [],
   "source": [
    "for key,value in ls_50.items():\n",
    "    for k,v in lexicon50.items():\n",
    "        if k==key:\n",
    "            v.extend(value)"
   ]
  },
  {
   "cell_type": "code",
   "execution_count": 48,
   "metadata": {},
   "outputs": [],
   "source": [
    "with open ('2020_june_lexiconV3_5.json','w') as f2:\n",
    "    json.dump(lexicon50,f2,sort_keys=True, indent=4)"
   ]
  },
  {
   "cell_type": "code",
   "execution_count": 34,
   "metadata": {},
   "outputs": [
    {
     "name": "stdout",
     "output_type": "stream",
     "text": [
      "no such words\n"
     ]
    }
   ],
   "source": [
    "if 'emergency' in lexicon70['covid']:\n",
    "    print(True)\n",
    "if 'crisis' in lexicon70['covid']:\n",
    "    print(True)\n",
    "else:\n",
    "    print('no such words')"
   ]
  },
  {
   "cell_type": "code",
   "execution_count": 39,
   "metadata": {},
   "outputs": [
    {
     "data": {
      "text/plain": [
       "['k-12 education',\n",
       " 'student debt',\n",
       " 'cancel student loan debt',\n",
       " 'hbcus',\n",
       " 'school infrastructure',\n",
       " 'social emotional learning',\n",
       " 'loans',\n",
       " 'tutor',\n",
       " 'english language learners',\n",
       " 'free college tuition',\n",
       " 'high school',\n",
       " 'students low income',\n",
       " 'students schools',\n",
       " 'school service personnel',\n",
       " 'student',\n",
       " 'minority serving institutions',\n",
       " 'borrowers',\n",
       " 'graduation',\n",
       " 'public schools',\n",
       " 'students color',\n",
       " 'college student',\n",
       " 'supports teachers',\n",
       " 'pre-school',\n",
       " 'debt financed education',\n",
       " 'lgbtq students',\n",
       " 'early education',\n",
       " 'public education',\n",
       " 'teachers',\n",
       " 'student loan borrowers',\n",
       " 'special education',\n",
       " 'default',\n",
       " 'immigrant students',\n",
       " 'school climate',\n",
       " 'education']"
      ]
     },
     "execution_count": 39,
     "metadata": {},
     "output_type": "execute_result"
    }
   ],
   "source": [
    "lexicon80['education']"
   ]
  },
  {
   "cell_type": "code",
   "execution_count": null,
   "metadata": {},
   "outputs": [],
   "source": []
  }
 ],
 "metadata": {
  "kernelspec": {
   "display_name": "Python 3",
   "language": "python",
   "name": "python3"
  },
  "language_info": {
   "codemirror_mode": {
    "name": "ipython",
    "version": 3
   },
   "file_extension": ".py",
   "mimetype": "text/x-python",
   "name": "python",
   "nbconvert_exporter": "python",
   "pygments_lexer": "ipython3",
   "version": "3.7.4"
  }
 },
 "nbformat": 4,
 "nbformat_minor": 2
}
