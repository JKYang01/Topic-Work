{
 "cells": [
  {
   "cell_type": "code",
   "execution_count": 10,
   "metadata": {},
   "outputs": [],
   "source": [
    "import pandas as pd \n",
    "import numpy as np"
   ]
  },
  {
   "cell_type": "markdown",
   "metadata": {},
   "source": [
    "## Combine June data "
   ]
  },
  {
   "cell_type": "code",
   "execution_count": 3,
   "metadata": {},
   "outputs": [],
   "source": [
    "file1 = '2020_FB_Pres_500_Ads_Topic_GOLD_v2.xlsx'\n",
    "file2 = '2020_FB_Pres_1000_Posts_Topic_GOLD_v2.xlsx'\n",
    "file3 = '2020_FB_Pres_Posts_500_Topic_GOLD_v1.xlsx'\n",
    "dirs = 'C:\\\\Users\\\\wangtao\\\\Documents\\\\Illumination\\\\data_set(2020june)\\\\'"
   ]
  },
  {
   "cell_type": "code",
   "execution_count": 4,
   "metadata": {},
   "outputs": [],
   "source": [
    "df1 = pd.read_excel(dirs+file1)\n",
    "df2 = pd.read_excel(dirs+file2)\n",
    "df3 = pd.read_excel(dirs+file3)"
   ]
  },
  {
   "cell_type": "code",
   "execution_count": 5,
   "metadata": {},
   "outputs": [],
   "source": [
    "df1 = df1[['ad_creative_body','GOLD']]\n",
    "df2 = df2[['text','GOLD']]\n",
    "df3 = df3[['text','GOLD']]"
   ]
  },
  {
   "cell_type": "code",
   "execution_count": 6,
   "metadata": {},
   "outputs": [],
   "source": [
    "df1.rename(columns={'GOLD':'Gold Label'},inplace=True)\n",
    "df1.rename(columns={'ad_creative_body':'text'}, inplace=True)"
   ]
  },
  {
   "cell_type": "code",
   "execution_count": 7,
   "metadata": {},
   "outputs": [],
   "source": [
    "df2.rename(columns={'GOLD':'Gold Label'},inplace=True)\n",
    "df3.rename(columns={'GOLD':'Gold Label'},inplace=True)"
   ]
  },
  {
   "cell_type": "code",
   "execution_count": 8,
   "metadata": {},
   "outputs": [],
   "source": [
    "df_list = [df1,df2,df3]\n",
    "\n",
    "FB_df = pd.concat(df_list,ignore_index=True)"
   ]
  },
  {
   "cell_type": "code",
   "execution_count": 9,
   "metadata": {},
   "outputs": [
    {
     "data": {
      "text/html": [
       "<div>\n",
       "<style scoped>\n",
       "    .dataframe tbody tr th:only-of-type {\n",
       "        vertical-align: middle;\n",
       "    }\n",
       "\n",
       "    .dataframe tbody tr th {\n",
       "        vertical-align: top;\n",
       "    }\n",
       "\n",
       "    .dataframe thead th {\n",
       "        text-align: right;\n",
       "    }\n",
       "</style>\n",
       "<table border=\"1\" class=\"dataframe\">\n",
       "  <thead>\n",
       "    <tr style=\"text-align: right;\">\n",
       "      <th></th>\n",
       "      <th>text</th>\n",
       "      <th>Gold Label</th>\n",
       "    </tr>\n",
       "  </thead>\n",
       "  <tbody>\n",
       "    <tr>\n",
       "      <td>0</td>\n",
       "      <td>Last quarter, Bernie Sanders, Pete Buttigieg a...</td>\n",
       "      <td>no topic</td>\n",
       "    </tr>\n",
       "    <tr>\n",
       "      <td>1</td>\n",
       "      <td>Every one of the Democratic candidates remaini...</td>\n",
       "      <td>no topic</td>\n",
       "    </tr>\n",
       "    <tr>\n",
       "      <td>2</td>\n",
       "      <td>A young woman came up to me after my speech in...</td>\n",
       "      <td>social programs, education</td>\n",
       "    </tr>\n",
       "    <tr>\n",
       "      <td>3</td>\n",
       "      <td>Como presidenta, Elizabeth proporcionarн_a el ...</td>\n",
       "      <td>social programs</td>\n",
       "    </tr>\n",
       "    <tr>\n",
       "      <td>4</td>\n",
       "      <td>Una cosa queda clara: ahorrar para una jubilac...</td>\n",
       "      <td>social programs</td>\n",
       "    </tr>\n",
       "    <tr>\n",
       "      <td>...</td>\n",
       "      <td>...</td>\n",
       "      <td>...</td>\n",
       "    </tr>\n",
       "    <tr>\n",
       "      <td>1994</td>\n",
       "      <td>Thank you Rashad Robinson for having me on the...</td>\n",
       "      <td>safety, social cultural, economic</td>\n",
       "    </tr>\n",
       "    <tr>\n",
       "      <td>1995</td>\n",
       "      <td>Louis Vuitton has invested in the American wor...</td>\n",
       "      <td>economic</td>\n",
       "    </tr>\n",
       "    <tr>\n",
       "      <td>1996</td>\n",
       "      <td>Upper-income people have done disproportionate...</td>\n",
       "      <td>economic</td>\n",
       "    </tr>\n",
       "    <tr>\n",
       "      <td>1997</td>\n",
       "      <td>As usual with “this” General Motors, things ju...</td>\n",
       "      <td>covid, health</td>\n",
       "    </tr>\n",
       "    <tr>\n",
       "      <td>1998</td>\n",
       "      <td>Black and Brown families value education the s...</td>\n",
       "      <td>education, social cultural, economic</td>\n",
       "    </tr>\n",
       "  </tbody>\n",
       "</table>\n",
       "<p>1999 rows × 2 columns</p>\n",
       "</div>"
      ],
      "text/plain": [
       "                                                   text  \\\n",
       "0     Last quarter, Bernie Sanders, Pete Buttigieg a...   \n",
       "1     Every one of the Democratic candidates remaini...   \n",
       "2     A young woman came up to me after my speech in...   \n",
       "3     Como presidenta, Elizabeth proporcionarн_a el ...   \n",
       "4     Una cosa queda clara: ahorrar para una jubilac...   \n",
       "...                                                 ...   \n",
       "1994  Thank you Rashad Robinson for having me on the...   \n",
       "1995  Louis Vuitton has invested in the American wor...   \n",
       "1996  Upper-income people have done disproportionate...   \n",
       "1997  As usual with “this” General Motors, things ju...   \n",
       "1998  Black and Brown families value education the s...   \n",
       "\n",
       "                                Gold Label  \n",
       "0                                 no topic  \n",
       "1                                 no topic  \n",
       "2               social programs, education  \n",
       "3                          social programs  \n",
       "4                          social programs  \n",
       "...                                    ...  \n",
       "1994     safety, social cultural, economic  \n",
       "1995                              economic  \n",
       "1996                              economic  \n",
       "1997                         covid, health  \n",
       "1998  education, social cultural, economic  \n",
       "\n",
       "[1999 rows x 2 columns]"
      ]
     },
     "execution_count": 9,
     "metadata": {},
     "output_type": "execute_result"
    }
   ],
   "source": [
    "FB_df"
   ]
  },
  {
   "cell_type": "code",
   "execution_count": 10,
   "metadata": {},
   "outputs": [],
   "source": [
    "FB_df.to_csv('FB_2000.csv',index=False)"
   ]
  },
  {
   "cell_type": "markdown",
   "metadata": {},
   "source": [
    "### FB+TW test dataset 3 july 8th"
   ]
  },
  {
   "cell_type": "code",
   "execution_count": 4,
   "metadata": {},
   "outputs": [],
   "source": [
    "file1 = '2020_FB_Pres_Ads_500_Topic_Gold_v1_test.xlsx'\n",
    "file2 = '2020_FB_Pres_Posts_500_Topic_GOLD_v1_test.xlsx'\n",
    "file3 = '2020_TW_Pres_Posts_500_Topic_Gold_v1_test.xlsx'\n",
    "dirs = 'C:\\\\Users\\\\wangtao\\\\Documents\\\\Illumination\\\\data_set(2020july)\\\\'\n"
   ]
  },
  {
   "cell_type": "code",
   "execution_count": 5,
   "metadata": {},
   "outputs": [],
   "source": [
    "df1 = pd.read_excel(dirs+file1)\n",
    "df2 = pd.read_excel(dirs+file2)\n",
    "df3 = pd.read_excel(dirs+file3)"
   ]
  },
  {
   "cell_type": "code",
   "execution_count": 6,
   "metadata": {},
   "outputs": [],
   "source": [
    "df1 = df1[['ad_creative_body','GOLD']]\n",
    "df2 = df2[['text','GOLD']]\n",
    "df3 = df3[['text','GOLD']]"
   ]
  },
  {
   "cell_type": "code",
   "execution_count": 7,
   "metadata": {},
   "outputs": [],
   "source": [
    "df1.rename(columns={'GOLD':'Gold Label'},inplace=True)\n",
    "df1.rename(columns={'ad_creative_body':'text'}, inplace=True)\n",
    "df2.rename(columns={'GOLD':'Gold Label'},inplace=True)\n",
    "df3.rename(columns={'GOLD':'Gold Label'},inplace=True)"
   ]
  },
  {
   "cell_type": "code",
   "execution_count": 8,
   "metadata": {},
   "outputs": [],
   "source": [
    "df_list = [df1,df2,df3]\n",
    "\n",
    "FBtest_df = pd.concat(df_list,ignore_index=True)"
   ]
  },
  {
   "cell_type": "code",
   "execution_count": 9,
   "metadata": {},
   "outputs": [],
   "source": [
    "FBtest_df.to_csv('FBtest_1500.csv',index=False)"
   ]
  },
  {
   "cell_type": "markdown",
   "metadata": {},
   "source": [
    "## Combine all of the test datasets (june+july)"
   ]
  },
  {
   "cell_type": "code",
   "execution_count": 21,
   "metadata": {},
   "outputs": [],
   "source": [
    "df1 = pd.read_csv('FB_2000.csv')\n",
    "df2 = pd.read_csv('FBtest_1500.csv')"
   ]
  },
  {
   "cell_type": "code",
   "execution_count": 22,
   "metadata": {},
   "outputs": [],
   "source": [
    "FBtest_df = pd.concat([df1,df2],ignore_index=True)"
   ]
  },
  {
   "cell_type": "code",
   "execution_count": 17,
   "metadata": {},
   "outputs": [],
   "source": [
    "# shuffle each column indepedentely\n",
    "\n",
    "# def shuffle(df,n=2,axis=0):\n",
    "#     df = df.copy()\n",
    "#     for _ in range(n):\n",
    "#         df.apply(np.random.shuffle,axis=axis)\n",
    "#     return df"
   ]
  },
  {
   "cell_type": "code",
   "execution_count": 18,
   "metadata": {},
   "outputs": [],
   "source": [
    "FBtest_df = shuffle(FBtest_df)"
   ]
  },
  {
   "cell_type": "code",
   "execution_count": 19,
   "metadata": {},
   "outputs": [
    {
     "data": {
      "text/html": [
       "<div>\n",
       "<style scoped>\n",
       "    .dataframe tbody tr th:only-of-type {\n",
       "        vertical-align: middle;\n",
       "    }\n",
       "\n",
       "    .dataframe tbody tr th {\n",
       "        vertical-align: top;\n",
       "    }\n",
       "\n",
       "    .dataframe thead th {\n",
       "        text-align: right;\n",
       "    }\n",
       "</style>\n",
       "<table border=\"1\" class=\"dataframe\">\n",
       "  <thead>\n",
       "    <tr style=\"text-align: right;\">\n",
       "      <th></th>\n",
       "      <th>text</th>\n",
       "      <th>Gold Label</th>\n",
       "    </tr>\n",
       "  </thead>\n",
       "  <tbody>\n",
       "    <tr>\n",
       "      <td>0</td>\n",
       "      <td>The compounding evidence that Mr. Trump has ab...</td>\n",
       "      <td>no topic</td>\n",
       "    </tr>\n",
       "    <tr>\n",
       "      <td>1</td>\n",
       "      <td>We started with one of the most diverse fields...</td>\n",
       "      <td>social cultural</td>\n",
       "    </tr>\n",
       "    <tr>\n",
       "      <td>2</td>\n",
       "      <td>This is why we need complete transparency. Mue...</td>\n",
       "      <td>economic</td>\n",
       "    </tr>\n",
       "    <tr>\n",
       "      <td>3</td>\n",
       "      <td>Come join us for a poll party on Tuesday, Febr...</td>\n",
       "      <td>economic</td>\n",
       "    </tr>\n",
       "    <tr>\n",
       "      <td>4</td>\n",
       "      <td>I will be having a White House Press Conferenc...</td>\n",
       "      <td>social cultural, safety, education</td>\n",
       "    </tr>\n",
       "    <tr>\n",
       "      <td>...</td>\n",
       "      <td>...</td>\n",
       "      <td>...</td>\n",
       "    </tr>\n",
       "    <tr>\n",
       "      <td>3494</td>\n",
       "      <td>I spent most of my career studying one simple ...</td>\n",
       "      <td>safety, health</td>\n",
       "    </tr>\n",
       "    <tr>\n",
       "      <td>3495</td>\n",
       "      <td>The Iowa caucus is just three days away and no...</td>\n",
       "      <td>education, safety, social programs</td>\n",
       "    </tr>\n",
       "    <tr>\n",
       "      <td>3496</td>\n",
       "      <td>I will be signing our very large and comprehen...</td>\n",
       "      <td>governance</td>\n",
       "    </tr>\n",
       "    <tr>\n",
       "      <td>3497</td>\n",
       "      <td>We’ve got 30 days to win Iowa. Make every day ...</td>\n",
       "      <td>no topic</td>\n",
       "    </tr>\n",
       "    <tr>\n",
       "      <td>3498</td>\n",
       "      <td>The Sixth Amendment provides every American ac...</td>\n",
       "      <td>safety, economic, education</td>\n",
       "    </tr>\n",
       "  </tbody>\n",
       "</table>\n",
       "<p>3499 rows × 2 columns</p>\n",
       "</div>"
      ],
      "text/plain": [
       "                                                   text  \\\n",
       "0     The compounding evidence that Mr. Trump has ab...   \n",
       "1     We started with one of the most diverse fields...   \n",
       "2     This is why we need complete transparency. Mue...   \n",
       "3     Come join us for a poll party on Tuesday, Febr...   \n",
       "4     I will be having a White House Press Conferenc...   \n",
       "...                                                 ...   \n",
       "3494  I spent most of my career studying one simple ...   \n",
       "3495  The Iowa caucus is just three days away and no...   \n",
       "3496  I will be signing our very large and comprehen...   \n",
       "3497  We’ve got 30 days to win Iowa. Make every day ...   \n",
       "3498  The Sixth Amendment provides every American ac...   \n",
       "\n",
       "                              Gold Label  \n",
       "0                               no topic  \n",
       "1                        social cultural  \n",
       "2                               economic  \n",
       "3                               economic  \n",
       "4     social cultural, safety, education  \n",
       "...                                  ...  \n",
       "3494                      safety, health  \n",
       "3495  education, safety, social programs  \n",
       "3496                          governance  \n",
       "3497                            no topic  \n",
       "3498         safety, economic, education  \n",
       "\n",
       "[3499 rows x 2 columns]"
      ]
     },
     "execution_count": 19,
     "metadata": {},
     "output_type": "execute_result"
    }
   ],
   "source": [
    "FBtest_df"
   ]
  },
  {
   "cell_type": "code",
   "execution_count": 23,
   "metadata": {},
   "outputs": [],
   "source": [
    "FBtest_df.to_csv('FBtest_3500.csv',index=False)"
   ]
  },
  {
   "cell_type": "code",
   "execution_count": null,
   "metadata": {},
   "outputs": [],
   "source": []
  }
 ],
 "metadata": {
  "kernelspec": {
   "display_name": "Python 3",
   "language": "python",
   "name": "python3"
  },
  "language_info": {
   "codemirror_mode": {
    "name": "ipython",
    "version": 3
   },
   "file_extension": ".py",
   "mimetype": "text/x-python",
   "name": "python",
   "nbconvert_exporter": "python",
   "pygments_lexer": "ipython3",
   "version": "3.7.4"
  }
 },
 "nbformat": 4,
 "nbformat_minor": 2
}
