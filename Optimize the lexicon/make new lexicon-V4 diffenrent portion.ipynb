{
 "cells": [
  {
   "cell_type": "code",
   "execution_count": 2,
   "metadata": {},
   "outputs": [],
   "source": [
    "import pandas as pd\n",
    "import numpy as np\n",
    "import json\n"
   ]
  },
  {
   "cell_type": "markdown",
   "metadata": {},
   "source": [
    "## LexiconV4_61 social programs  \n",
    "v4_61 is developing based on FB2000 train dataset"
   ]
  },
  {
   "cell_type": "code",
   "execution_count": 47,
   "metadata": {},
   "outputs": [],
   "source": [
    "with open ('2020_july_lexiconV4_61.json','r') as f:\n",
    "    orig_lex = json.load(f)\n",
    "    \n",
    "with open ('lexiconV461_deletewordsTagRate.json','r') as f1:\n",
    "    tag_rate = json.load(f1)\n",
    "\n",
    "    \n",
    "with open ('remove_V461.json','r') as f2:\n",
    "    remove_lex = json.load(f2)"
   ]
  },
  {
   "cell_type": "code",
   "execution_count": 51,
   "metadata": {},
   "outputs": [
    {
     "name": "stdout",
     "output_type": "stream",
     "text": [
      "472\n",
      "['affordable healthcare', 'public schools', 'diseases', 'mental health', 'affordable health care', 'getting health', 'hbcus', 'early childhood', 'medical care', 'medical bills', 'health care costs', 'health care system', 'graduate', 'child care', 'vaccine', 'affordable health', 'colleges', 'student loan', 'care costs', 'health insurance', 'student debt', 'medicare', 'loan debt', 'education system', 'low income students', 'student debt crisis', 'college', 'graduation', 'health care', 'academic', 'education plan', 'student', 'diagnosis', 'welfare', 'affordable child', 'debt', 'high quality', 'student loan debt']\n",
      "38\n"
     ]
    }
   ],
   "source": [
    "print(len(sp['social programs']))\n",
    "print(remove_lex['social programs'])\n",
    "print(len(remove_lex['social programs']))"
   ]
  },
  {
   "cell_type": "code",
   "execution_count": 49,
   "metadata": {},
   "outputs": [],
   "source": [
    "sp = {}  # remove all of the miss classified social programs \n",
    "\n",
    "v = remove_lex['social programs']\n",
    "n_value = list(set(orig_lex['social programs']).difference(set(v)))\n",
    "d = {'social programs':n_value}\n",
    "sp.update(d)"
   ]
  },
  {
   "cell_type": "code",
   "execution_count": 50,
   "metadata": {},
   "outputs": [
    {
     "name": "stdout",
     "output_type": "stream",
     "text": [
      "472\n"
     ]
    },
    {
     "data": {
      "text/plain": [
       "{'academic': 0.0,\n",
       " 'affordable child': 0.0,\n",
       " 'affordable health': 0.8,\n",
       " 'affordable health care': 0.8,\n",
       " 'affordable healthcare': 0.0,\n",
       " 'care costs': 0.3333333333333333,\n",
       " 'child care': 0.0,\n",
       " 'college': 0.16666666666666666,\n",
       " 'colleges': 0.0,\n",
       " 'debt': 0.0,\n",
       " 'diagnosis': 0.0,\n",
       " 'diseases': 0.0,\n",
       " 'early childhood': 0.0,\n",
       " 'education plan': 0.6666666666666666,\n",
       " 'education system': 0.0,\n",
       " 'getting health': 0.0,\n",
       " 'graduate': 0.0,\n",
       " 'graduation': 0.0,\n",
       " 'hbcus': 0.0,\n",
       " 'health care': 0.425531914893617,\n",
       " 'health care costs': 0.3333333333333333,\n",
       " 'health care system': 0.5,\n",
       " 'health insurance': 0.75,\n",
       " 'high quality': 0.4,\n",
       " 'loan debt': 0.0,\n",
       " 'low income students': 0.0,\n",
       " 'medical bills': 0.0,\n",
       " 'medical care': 0.0,\n",
       " 'medicare': 0.9411764705882353,\n",
       " 'mental health': 0.0,\n",
       " 'public schools': 0.0,\n",
       " 'student': 0.0,\n",
       " 'student debt': 0.0,\n",
       " 'student debt crisis': 0.0,\n",
       " 'student loan': 0.0,\n",
       " 'student loan debt': 0.0,\n",
       " 'vaccine': 0.0,\n",
       " 'welfare': 0.0}"
      ]
     },
     "execution_count": 50,
     "metadata": {},
     "output_type": "execute_result"
    }
   ],
   "source": [
    "print(len(sp['social programs']))\n",
    "\n",
    "tag_rate = tag_rate['social programs']\n",
    "\n",
    "tag_rate"
   ]
  },
  {
   "cell_type": "code",
   "execution_count": 52,
   "metadata": {},
   "outputs": [
    {
     "name": "stdout",
     "output_type": "stream",
     "text": [
      "['affordable health', 'affordable health care', 'health insurance', 'medicare']\n"
     ]
    }
   ],
   "source": [
    "l_70 = []\n",
    "for k,v in tag_rate.items():\n",
    "    if v>=0.7:\n",
    "        l_70.append(k)\n",
    "\n",
    "print(l_70)"
   ]
  },
  {
   "cell_type": "code",
   "execution_count": 53,
   "metadata": {},
   "outputs": [
    {
     "name": "stdout",
     "output_type": "stream",
     "text": [
      "476\n"
     ]
    }
   ],
   "source": [
    "sp['social programs'].extend(l_70)\n",
    "print(len(sp['social programs']))\n",
    "orig_lex['social programs']=sp['social programs']"
   ]
  },
  {
   "cell_type": "code",
   "execution_count": 54,
   "metadata": {},
   "outputs": [],
   "source": [
    "with open ('2020_july_lexiconV4_7.json','w') as f2:\n",
    "    json.dump(orig_lex,f2,sort_keys=True, indent=4)"
   ]
  },
  {
   "cell_type": "markdown",
   "metadata": {},
   "source": [
    "## Lexicon V4_6 social programs "
   ]
  },
  {
   "cell_type": "code",
   "execution_count": 33,
   "metadata": {},
   "outputs": [],
   "source": [
    "with open ('2020_july_lexiconV4_6.json','r') as f:\n",
    "    orig_lex = json.load(f)\n",
    "    \n",
    "with open ('lexiconV46_deletewordsTagRate.json','r') as f1:\n",
    "    tag_rate = json.load(f1)\n",
    "\n",
    "    \n",
    "with open ('remove_V46.json','r') as f2:\n",
    "    remove_lex = json.load(f2)"
   ]
  },
  {
   "cell_type": "code",
   "execution_count": 34,
   "metadata": {},
   "outputs": [],
   "source": [
    "sp = {}  # remove all of the miss classified social programs \n",
    "\n",
    "v = remove_lex['social programs']\n",
    "n_value = list(set(orig_lex['social programs']).difference(set(v)))\n",
    "d = {'social programs':n_value}\n",
    "sp.update(d)"
   ]
  },
  {
   "cell_type": "code",
   "execution_count": 46,
   "metadata": {},
   "outputs": [
    {
     "name": "stdout",
     "output_type": "stream",
     "text": [
      "['affordable healthcare', 'diseases', 'affordable health care', 'getting health', 'hbcus', 'early childhood', 'health care costs', 'health care system', 'graduate', 'child care', 'vaccine', 'affordable health', 'colleges', 'student loan', 'care costs', 'health insurance', 'student debt', 'medicare', 'loan debt', 'education system', 'low income students', 'many americans', 'student debt crisis', 'college', 'graduation', 'health care', 'academic', 'education plan', 'student', 'diagnosis', 'welfare', 'affordable child', 'debt', 'rural areas', 'student loan debt']\n"
     ]
    }
   ],
   "source": [
    "print(remove_lex['social programs'])"
   ]
  },
  {
   "cell_type": "code",
   "execution_count": 35,
   "metadata": {},
   "outputs": [
    {
     "name": "stdout",
     "output_type": "stream",
     "text": [
      "485\n"
     ]
    },
    {
     "data": {
      "text/plain": [
       "{'academic': 0.0,\n",
       " 'affordable child': 0.0,\n",
       " 'affordable health': 0.8,\n",
       " 'affordable health care': 0.8,\n",
       " 'affordable healthcare': 0.0,\n",
       " 'care costs': 0.3333333333333333,\n",
       " 'child care': 0.0,\n",
       " 'college': 0.16666666666666666,\n",
       " 'colleges': 0.0,\n",
       " 'debt': 0.0,\n",
       " 'diagnosis': 0.0,\n",
       " 'diseases': 0.0,\n",
       " 'early childhood': 0.0,\n",
       " 'education plan': 0.6666666666666666,\n",
       " 'education system': 0.0,\n",
       " 'getting health': 0.0,\n",
       " 'graduate': 0.0,\n",
       " 'graduation': 0.0,\n",
       " 'hbcus': 0.0,\n",
       " 'health care': 0.425531914893617,\n",
       " 'health care costs': 0.3333333333333333,\n",
       " 'health care system': 0.5,\n",
       " 'health insurance': 0.75,\n",
       " 'loan debt': 0.0,\n",
       " 'low income students': 0.0,\n",
       " 'many americans': 1.0,\n",
       " 'medicare': 0.9411764705882353,\n",
       " 'rural areas': 1.0,\n",
       " 'student': 0.0,\n",
       " 'student debt': 0.0,\n",
       " 'student debt crisis': 0.0,\n",
       " 'student loan': 0.0,\n",
       " 'student loan debt': 0.0,\n",
       " 'vaccine': 0.0,\n",
       " 'welfare': 0.0}"
      ]
     },
     "execution_count": 35,
     "metadata": {},
     "output_type": "execute_result"
    }
   ],
   "source": [
    "print(len(sp['social programs']))\n",
    "\n",
    "tag_rate = tag_rate['social programs']\n",
    "\n",
    "tag_rate"
   ]
  },
  {
   "cell_type": "code",
   "execution_count": 36,
   "metadata": {},
   "outputs": [],
   "source": [
    "#ls_70={}\n",
    "l_70 = []\n",
    "for k,v in tag_rate.items():\n",
    "    if v>=0.7:\n",
    "        l_70.append(k)\n",
    "            \n",
    "        "
   ]
  },
  {
   "cell_type": "code",
   "execution_count": 37,
   "metadata": {},
   "outputs": [
    {
     "data": {
      "text/plain": [
       "['affordable health',\n",
       " 'affordable health care',\n",
       " 'health insurance',\n",
       " 'many americans',\n",
       " 'medicare',\n",
       " 'rural areas']"
      ]
     },
     "execution_count": 37,
     "metadata": {},
     "output_type": "execute_result"
    }
   ],
   "source": [
    "l_70"
   ]
  },
  {
   "cell_type": "code",
   "execution_count": 39,
   "metadata": {},
   "outputs": [],
   "source": [
    "sp['social programs'].extend(l_70)"
   ]
  },
  {
   "cell_type": "code",
   "execution_count": 40,
   "metadata": {},
   "outputs": [
    {
     "data": {
      "text/plain": [
       "497"
      ]
     },
     "execution_count": 40,
     "metadata": {},
     "output_type": "execute_result"
    }
   ],
   "source": [
    "len(sp['social programs'])"
   ]
  },
  {
   "cell_type": "code",
   "execution_count": 41,
   "metadata": {},
   "outputs": [],
   "source": [
    "orig_lex['social programs']=sp['social programs']"
   ]
  },
  {
   "cell_type": "code",
   "execution_count": 42,
   "metadata": {},
   "outputs": [],
   "source": [
    "with open ('2020_july_lexiconV4_8.json','w') as f2:\n",
    "    json.dump(orig_lex,f2,sort_keys=True, indent=4)"
   ]
  },
  {
   "cell_type": "markdown",
   "metadata": {},
   "source": [
    "## Lexicon V4_x, making"
   ]
  },
  {
   "cell_type": "code",
   "execution_count": 2,
   "metadata": {},
   "outputs": [],
   "source": [
    "# with open ('2019_public_comment.json','r') as f:\n",
    "#     lexicon = json.load(f)\n",
    "\n",
    "with open ('2020_june_lexiconV4.json','r') as f:\n",
    "    orig_lex = json.load(f)\n",
    "    \n",
    "with open ('lexiconV4_deletewordsTagRate.json','r') as f1:\n",
    "    tag_rate = json.load(f1)\n",
    "\n",
    "    \n",
    "with open ('remove_V4.json','r') as f2:\n",
    "    remove_lex = json.load(f2)"
   ]
  },
  {
   "cell_type": "code",
   "execution_count": 3,
   "metadata": {
    "collapsed": true
   },
   "outputs": [
    {
     "data": {
      "text/plain": [
       "{'covid': ['invisible enemy',\n",
       "  'covid 19',\n",
       "  'reopen',\n",
       "  'lockdown',\n",
       "  'deadly',\n",
       "  'covid',\n",
       "  'health crisis',\n",
       "  'testing',\n",
       "  'shutdown',\n",
       "  'essential',\n",
       "  'phase two'],\n",
       " 'economic': ['prosperity',\n",
       "  'taxpayer',\n",
       "  'wealth',\n",
       "  'costs',\n",
       "  'equal pay',\n",
       "  'business',\n",
       "  'jobs',\n",
       "  'incredible wealth',\n",
       "  'economist',\n",
       "  'million manufacturing',\n",
       "  'low income',\n",
       "  'raise wages',\n",
       "  'big pharma',\n",
       "  'billions',\n",
       "  'capita',\n",
       "  'gdp',\n",
       "  'market',\n",
       "  'millionaires',\n",
       "  'economic',\n",
       "  'ceos',\n",
       "  'insurance company',\n",
       "  'taxes',\n",
       "  'mortgage',\n",
       "  'wealthy',\n",
       "  'wages',\n",
       "  'budget',\n",
       "  'payroll',\n",
       "  'american workers',\n",
       "  'tax',\n",
       "  'industrialized world',\n",
       "  'per capita',\n",
       "  'unemployment',\n",
       "  'assets',\n",
       "  'loopholes',\n",
       "  'manufacturing',\n",
       "  'fair shot',\n",
       "  'banking',\n",
       "  'federal income',\n",
       "  'banks',\n",
       "  'private equity',\n",
       "  'economy',\n",
       "  'income',\n",
       "  'workers',\n",
       "  'economically',\n",
       "  'treasury',\n",
       "  'middle class',\n",
       "  'commerce',\n",
       "  'fiscal',\n",
       "  'revenue',\n",
       "  'foreclosures',\n",
       "  'trickle down',\n",
       "  'revenues',\n",
       "  'stock',\n",
       "  'shareholders'],\n",
       " 'education': ['high school',\n",
       "  'loans',\n",
       "  'social emotional learning',\n",
       "  'public schools',\n",
       "  'college student',\n",
       "  'education',\n",
       "  'student',\n",
       "  'college',\n",
       "  'school',\n",
       "  'teachers'],\n",
       " 'environmental': ['fuel industry',\n",
       "  'emissions',\n",
       "  'safe drinking',\n",
       "  'administration continues',\n",
       "  'climate',\n",
       "  'fossil',\n",
       "  'combat climate',\n",
       "  'fossil fuel',\n",
       "  'water supply',\n",
       "  'solar',\n",
       "  'climate change',\n",
       "  'climatechange',\n",
       "  'new deal',\n",
       "  'global warming',\n",
       "  'fuel',\n",
       "  'pollution',\n",
       "  'water crisis',\n",
       "  'water act',\n",
       "  'drinking water',\n",
       "  'planet',\n",
       "  'coal',\n",
       "  'environment'],\n",
       " 'foreign policy': ['gulf',\n",
       "  'forever wars',\n",
       "  'massacre',\n",
       "  'russian',\n",
       "  'common defense',\n",
       "  'tariffs',\n",
       "  'trade war',\n",
       "  'terrorism',\n",
       "  'american military',\n",
       "  'tariff',\n",
       "  'warfare',\n",
       "  'human rights',\n",
       "  'africa',\n",
       "  'local law',\n",
       "  'homeland security',\n",
       "  'india',\n",
       "  'germany',\n",
       "  'international crisis',\n",
       "  'regime change wars',\n",
       "  'yemen',\n",
       "  'chinese',\n",
       "  'deploy',\n",
       "  'nuclear weapons',\n",
       "  'america show',\n",
       "  'multinational corporations',\n",
       "  'countries around',\n",
       "  'doctrine',\n",
       "  'foreign',\n",
       "  'nazis',\n",
       "  'arming',\n",
       "  'foreign policy',\n",
       "  'hostages',\n",
       "  'trade deal',\n",
       "  'endless war',\n",
       "  'wars',\n",
       "  'negotiating table',\n",
       "  'czech republic',\n",
       "  'vladimir putin',\n",
       "  'regime',\n",
       "  'hacking',\n",
       "  'civilization',\n",
       "  'safe zone',\n",
       "  'held hostage',\n",
       "  'salvador',\n",
       "  'american soldier',\n",
       "  'mosque',\n",
       "  'coup',\n",
       "  'poland',\n",
       "  'war iii',\n",
       "  'usmca',\n",
       "  'cold war',\n",
       "  'putin',\n",
       "  'syria',\n",
       "  'military force',\n",
       "  'czech',\n",
       "  'multinational',\n",
       "  'no fly',\n",
       "  'new cold war',\n",
       "  'paris',\n",
       "  'senseless',\n",
       "  'disastrous war',\n",
       "  'moscow',\n",
       "  'world war',\n",
       "  'global economy',\n",
       "  'soleimani',\n",
       "  'dominican republic',\n",
       "  'intelligence community',\n",
       "  'humanitarian',\n",
       "  'iran war',\n",
       "  'korean',\n",
       "  'vietnam',\n",
       "  'united nations',\n",
       "  'threat facing',\n",
       "  'regime change',\n",
       "  'pentagon'],\n",
       " 'governance': ['unconstitutional',\n",
       "  'bill of rights',\n",
       "  'mueller report',\n",
       "  'lobbyists',\n",
       "  'federal workers',\n",
       "  'revolving door',\n",
       "  'abuses of power',\n",
       "  'secretary of education',\n",
       "  'suspicious transactions',\n",
       "  'impeach',\n",
       "  'fancy fundraisers',\n",
       "  'federal',\n",
       "  'democracy',\n",
       "  'best president',\n",
       "  'money laundering',\n",
       "  'prosecute',\n",
       "  'judges',\n",
       "  'constitutional rights',\n",
       "  'shady actors',\n",
       "  'state loopholes',\n",
       "  'big donors',\n",
       "  'roe',\n",
       "  'special interests',\n",
       "  'impeachment',\n",
       "  'pacs',\n",
       "  'hosts debate',\n",
       "  'shady deals',\n",
       "  'judicial',\n",
       "  'corruption',\n",
       "  'washington lobbyists',\n",
       "  'anti corruption',\n",
       "  'knocks on doors',\n",
       "  'shell companies',\n",
       "  'watergate',\n",
       "  'lack of transparency',\n",
       "  'hearings',\n",
       "  'shutdown',\n",
       "  'end lobbying',\n",
       "  'amendment rights',\n",
       "  'congress',\n",
       "  'courts',\n",
       "  'lobbying',\n",
       "  'supreme court',\n",
       "  'barr',\n",
       "  'watch parties',\n",
       "  'federal employees',\n",
       "  'one candidate',\n",
       "  'big money',\n",
       "  'kavanaugh',\n",
       "  'super pacs',\n",
       "  'anti corruption reforms',\n",
       "  'buy this election',\n",
       "  'census',\n",
       "  'witness testimony'],\n",
       " 'health': ['health care workers',\n",
       "  'rehabilitation',\n",
       "  'big pharma',\n",
       "  'prescription',\n",
       "  'health',\n",
       "  'health care',\n",
       "  'abortion',\n",
       "  'hbcu',\n",
       "  'prescription drug'],\n",
       " 'immigration': ['border',\n",
       "  'detention',\n",
       "  'border patrol',\n",
       "  'asylum seekers',\n",
       "  'immigration',\n",
       "  'xenophobia',\n",
       "  'immigration laws',\n",
       "  'asylum',\n",
       "  'borders',\n",
       "  'census',\n",
       "  'homeland security',\n",
       "  'immigrants',\n",
       "  'daca',\n",
       "  'detention centers',\n",
       "  'cages',\n",
       "  'humanitarian crisis'],\n",
       " 'military': ['va',\n",
       "  'self serving',\n",
       "  'troops',\n",
       "  'service members veterans',\n",
       "  'service members',\n",
       "  'nuclear weapons',\n",
       "  'civil service',\n",
       "  'military families',\n",
       "  'american military',\n",
       "  'army',\n",
       "  'military',\n",
       "  'airmen',\n",
       "  'vietnam',\n",
       "  'regime change'],\n",
       " 'safety': ['firearm',\n",
       "  'create federal',\n",
       "  'opioid',\n",
       "  'gun',\n",
       "  'safety measures',\n",
       "  'sexual',\n",
       "  'nra',\n",
       "  'incarcerated',\n",
       "  'commit crimes',\n",
       "  'mass incarceration',\n",
       "  'gun manufacturers',\n",
       "  'gun violence',\n",
       "  'assault weapons',\n",
       "  'prison',\n",
       "  'guns away',\n",
       "  'the nra',\n",
       "  'urban areas',\n",
       "  'gun owners',\n",
       "  'law abiding gun',\n",
       "  'ammunition',\n",
       "  'criminal',\n",
       "  'gun laws',\n",
       "  'criminals',\n",
       "  'second amendment',\n",
       "  'guns',\n",
       "  'marijuana',\n",
       "  'weapons ban',\n",
       "  'style assault',\n",
       "  'serious threat',\n",
       "  'shootings',\n",
       "  'law abiding citizens',\n",
       "  'military style',\n",
       "  'break the law',\n",
       "  'religious',\n",
       "  'gun show',\n",
       "  'criminal justice',\n",
       "  'economic security',\n",
       "  'disarm',\n",
       "  'addiction',\n",
       "  'assault',\n",
       "  'incarceration',\n",
       "  'criminal justice system',\n",
       "  'military style assault',\n",
       "  'domestic violence',\n",
       "  'excessive force',\n",
       "  'bail',\n",
       "  'fbi director',\n",
       "  'intelligence community',\n",
       "  'flint water',\n",
       "  'abiding citizens',\n",
       "  'drugs'],\n",
       " 'social cultural': ['anti semitism',\n",
       "  'religious liberty',\n",
       "  'sexual',\n",
       "  'sexual orientation',\n",
       "  'rape',\n",
       "  'equal pay',\n",
       "  'civil rights issue',\n",
       "  'religious freedom',\n",
       "  'african',\n",
       "  'gay',\n",
       "  'special needs',\n",
       "  'systemic racism',\n",
       "  'latino',\n",
       "  'african americans',\n",
       "  'married',\n",
       "  'african american',\n",
       "  'saint',\n",
       "  'religion',\n",
       "  'defunding',\n",
       "  'black',\n",
       "  'discrimination',\n",
       "  'paid family leave',\n",
       "  'racism',\n",
       "  'disabilities',\n",
       "  'systemic',\n",
       "  'white supremacist',\n",
       "  'color',\n",
       "  'race',\n",
       "  'black women',\n",
       "  'young woman',\n",
       "  'ada',\n",
       "  'racist',\n",
       "  'babies',\n",
       "  'disabled',\n",
       "  'free speech',\n",
       "  'latinos',\n",
       "  'abortion',\n",
       "  'abortions',\n",
       "  'adoption',\n",
       "  'racial'],\n",
       " 'social programs': ['child care',\n",
       "  'debt',\n",
       "  'classroom',\n",
       "  'doctors',\n",
       "  'student loan debt',\n",
       "  'health care',\n",
       "  'costs',\n",
       "  'college campuses',\n",
       "  'pharmaceutical companies',\n",
       "  'health services',\n",
       "  'paid family',\n",
       "  'decent housing',\n",
       "  'dependent',\n",
       "  'diagnosed',\n",
       "  'hip',\n",
       "  'and universities',\n",
       "  'security benefits',\n",
       "  'social security',\n",
       "  'affordable',\n",
       "  'educational',\n",
       "  'illnesses',\n",
       "  'chronic',\n",
       "  'prescription drugs',\n",
       "  'american society',\n",
       "  'retirees',\n",
       "  'saint anselm',\n",
       "  'higher education',\n",
       "  'homeowners',\n",
       "  'college students',\n",
       "  'anselm college',\n",
       "  'affordable housing',\n",
       "  'expand social',\n",
       "  'college degree',\n",
       "  'school board',\n",
       "  'housing',\n",
       "  'college',\n",
       "  'special education',\n",
       "  'insurance industry',\n",
       "  'doctor',\n",
       "  'quality affordable',\n",
       "  'social security benefits',\n",
       "  'student loan',\n",
       "  'loan debt',\n",
       "  'care coverage',\n",
       "  'graduating',\n",
       "  'education programs',\n",
       "  'student',\n",
       "  'living expenses',\n",
       "  'drug costs',\n",
       "  'health insurance',\n",
       "  'mentally',\n",
       "  'mentally ill',\n",
       "  'prescriptions',\n",
       "  'universal basic income',\n",
       "  'universities',\n",
       "  'colleges']}"
      ]
     },
     "execution_count": 3,
     "metadata": {},
     "output_type": "execute_result"
    }
   ],
   "source": [
    "remove_lex"
   ]
  },
  {
   "cell_type": "code",
   "execution_count": 20,
   "metadata": {},
   "outputs": [],
   "source": [
    "lexicon={}\n",
    "\n",
    "for key,value in orig_lex.items():\n",
    "    v = remove_lex[key]\n",
    "    n_value = list(set(value).difference(set(v)))\n",
    "    d = {key:n_value}\n",
    "    lexicon.update(d)"
   ]
  },
  {
   "cell_type": "code",
   "execution_count": 21,
   "metadata": {},
   "outputs": [
    {
     "data": {
      "text/plain": [
       "['tutor',\n",
       " 'debt financed education',\n",
       " 'english language learners',\n",
       " 'minority serving institutions',\n",
       " 'students low income',\n",
       " 'school climate',\n",
       " 'borrowers',\n",
       " 'pre school',\n",
       " 'student loan borrowers',\n",
       " 'special education',\n",
       " 'hbcus',\n",
       " 'school infrastructure',\n",
       " 'cancel student loan debt',\n",
       " 'students color',\n",
       " 'default',\n",
       " 'early education',\n",
       " 'public education',\n",
       " 'immigrant students',\n",
       " 'k 12 education',\n",
       " 'student debt',\n",
       " 'students schools',\n",
       " 'supports teachers',\n",
       " 'school service personnel',\n",
       " 'graduation',\n",
       " 'free college tuition',\n",
       " 'lgbtq students']"
      ]
     },
     "execution_count": 21,
     "metadata": {},
     "output_type": "execute_result"
    }
   ],
   "source": [
    "lexicon['education']"
   ]
  },
  {
   "cell_type": "code",
   "execution_count": 6,
   "metadata": {},
   "outputs": [
    {
     "data": {
      "text/plain": [
       "415"
      ]
     },
     "execution_count": 6,
     "metadata": {},
     "output_type": "execute_result"
    }
   ],
   "source": [
    "len(orig_lex['economic'])"
   ]
  },
  {
   "cell_type": "code",
   "execution_count": 48,
   "metadata": {},
   "outputs": [
    {
     "data": {
      "text/plain": [
       "{'covid': 0.75,\n",
       " 'covid 19': 0.75,\n",
       " 'deadly': 0.25,\n",
       " 'essential': 0.125,\n",
       " 'health crisis': 0.0,\n",
       " 'invisible enemy': 0.5,\n",
       " 'lockdown': 0.0,\n",
       " 'phase two': 0.0,\n",
       " 'reopen': 0.2,\n",
       " 'shutdown': 0.08333333333333333,\n",
       " 'testing': 0.8}"
      ]
     },
     "execution_count": 48,
     "metadata": {},
     "output_type": "execute_result"
    }
   ],
   "source": [
    "tag_rate['covid']"
   ]
  },
  {
   "cell_type": "code",
   "execution_count": 8,
   "metadata": {},
   "outputs": [],
   "source": [
    "ls_50={}\n",
    "ls_60={}\n",
    "ls_70={}\n",
    "ls_80={}\n",
    "#ls_90={}\n",
    "for key,value in tag_rate.items():\n",
    "    l_50 = []\n",
    "    l_60 = []\n",
    "    l_70 = []\n",
    "    l_80 = []\n",
    "    for k,v in value.items():\n",
    "        if v>=0.5:\n",
    "            l_50.append(k)\n",
    "        if v>=0.6:\n",
    "            l_60.append(k)\n",
    "        \n",
    "        if v>=0.7:\n",
    "            l_70.append(k)\n",
    "        \n",
    "        if v>=0.8:\n",
    "            l_80.append(k)\n",
    "    \n",
    "    ls_50.update({key:l_50})\n",
    "    ls_60.update({key:l_60})\n",
    "    ls_70.update({key:l_70})\n",
    "    ls_80.update({key:l_80})\n",
    "\n",
    "            "
   ]
  },
  {
   "cell_type": "code",
   "execution_count": 51,
   "metadata": {},
   "outputs": [],
   "source": [
    "\n",
    "ls_75={}\n",
    "\n",
    "for key,value in tag_rate.items():\n",
    "    l_75 = []\n",
    "    for k,v in value.items():        \n",
    "        if v>=0.75:\n",
    "            l_75.append(k)\n",
    "    \n",
    "    ls_75.update({key:l_75})\n"
   ]
  },
  {
   "cell_type": "code",
   "execution_count": 52,
   "metadata": {},
   "outputs": [
    {
     "data": {
      "text/plain": [
       "{'covid': ['testing'],\n",
       " 'economic': ['economic', 'economy', 'jobs', 'middle class', 'wealthy'],\n",
       " 'education': ['college', 'education'],\n",
       " 'environmental': ['climate',\n",
       "  'climate change',\n",
       "  'climate crisis',\n",
       "  'fuel',\n",
       "  'planet'],\n",
       " 'foreign policy': ['foreign'],\n",
       " 'governance': ['impeach', 'impeachment'],\n",
       " 'health': ['health', 'health care', 'healthcare'],\n",
       " 'immigration': ['immigration'],\n",
       " 'military': ['military'],\n",
       " 'safety': ['criminal justice', 'gun'],\n",
       " 'social cultural': ['color', 'latinos'],\n",
       " 'social programs': ['college', 'health care', 'healthcare']}"
      ]
     },
     "execution_count": 52,
     "metadata": {},
     "output_type": "execute_result"
    }
   ],
   "source": [
    "ls_75"
   ]
  },
  {
   "cell_type": "code",
   "execution_count": 44,
   "metadata": {},
   "outputs": [],
   "source": [
    "lexicon={}\n",
    "\n",
    "for key,value in orig_lex.items():\n",
    "    v = remove_lex[key]\n",
    "    n_value = list(set(value).difference(set(v)))\n",
    "    d = {key:n_value}\n",
    "    lexicon.update(d)"
   ]
  },
  {
   "cell_type": "code",
   "execution_count": 45,
   "metadata": {},
   "outputs": [],
   "source": [
    "# lexicon80 = lexicon\n",
    "# lexicon70 = lexicon\n",
    "lexicon60 = lexicon\n",
    "# lexicon50 = lexicon"
   ]
  },
  {
   "cell_type": "code",
   "execution_count": 46,
   "metadata": {},
   "outputs": [],
   "source": [
    "for key,value in ls_60.items():\n",
    "    for k,v in lexicon60.items():\n",
    "        if k==key:\n",
    "            v.extend(value)"
   ]
  },
  {
   "cell_type": "code",
   "execution_count": 51,
   "metadata": {
    "collapsed": true
   },
   "outputs": [
    {
     "data": {
      "text/plain": [
       "['caronavirus',\n",
       " 'bed capacity',\n",
       " 'see collapse economy',\n",
       " 'panicbuying',\n",
       " 'evacuee',\n",
       " 'social distancing',\n",
       " 'panicshop',\n",
       " 'ncov',\n",
       " 'protect working people',\n",
       " 'world health organization',\n",
       " 'ppe',\n",
       " 'mers',\n",
       " 'sflockdown',\n",
       " 'national testing strategy',\n",
       " 'china virus',\n",
       " 'distancing',\n",
       " 'ventilators',\n",
       " '14dayquarantine',\n",
       " 'quarantinelife',\n",
       " 'chloroquine',\n",
       " 'chinesevirus',\n",
       " 'masks',\n",
       " 'quarantine',\n",
       " 'ebola',\n",
       " 'protective equipment',\n",
       " 'panic shopping',\n",
       " 'duringmy14dayquarantine',\n",
       " 'canceleverything',\n",
       " 'flatten the curve',\n",
       " 'stay at home',\n",
       " 'pandemic',\n",
       " 'wet markets',\n",
       " 'covidiot',\n",
       " 'panic shop',\n",
       " 'shelteringinplace',\n",
       " 'inmyquarantinesurvivalkit',\n",
       " 'kungflu',\n",
       " 'koronavirus',\n",
       " 'chinavirus',\n",
       " 'liberate',\n",
       " 'isolating',\n",
       " 'ppeshortage',\n",
       " 'stay home',\n",
       " 'going see collapse',\n",
       " 'coronavirus',\n",
       " 'corona virus',\n",
       " 'virus',\n",
       " 'remdesivir',\n",
       " 'panic buy',\n",
       " 'corona',\n",
       " 'sheltering in place',\n",
       " 'disinfect',\n",
       " 'flu',\n",
       " 'n95',\n",
       " 'quarentinelife',\n",
       " 'trumppandemic',\n",
       " 'covid19',\n",
       " 'stayhomechallenge',\n",
       " 'screening',\n",
       " 'nonessential',\n",
       " 'disinfectants',\n",
       " 'infuenza',\n",
       " 'coronavirus pandemic',\n",
       " 'outbreak',\n",
       " 'trump pandemic',\n",
       " 'stayhome',\n",
       " 'infected patients',\n",
       " 'restrict travel',\n",
       " 'vaccine',\n",
       " 'sinophobia',\n",
       " 'pandemie',\n",
       " 'wuhancoronavirus',\n",
       " 'getmeppe',\n",
       " 'coronapocalypse',\n",
       " 'socialdistancing',\n",
       " 'coronakindness',\n",
       " 'socialdistancingnow',\n",
       " 'sars',\n",
       " 'sanitize',\n",
       " 'staysafestayhome',\n",
       " 'stayathome',\n",
       " 'sars cov 2',\n",
       " 'sanitizer',\n",
       " 'stay safe stay home',\n",
       " 'wuhan',\n",
       " 'chinese virus',\n",
       " 'paycheck protection',\n",
       " 'covidー19',\n",
       " 'influenza',\n",
       " 'coronials',\n",
       " 'sanitiser',\n",
       " 'stay home challenge',\n",
       " 'isolation',\n",
       " 'panic buying',\n",
       " 'defense production act',\n",
       " 'covd',\n",
       " 'paycheckprotectionprogram',\n",
       " 'dontbeaspreader',\n",
       " 'saferathome',\n",
       " 'epitwitter',\n",
       " 'virtual town hall',\n",
       " 'wuhanlockdown',\n",
       " 'medical supplies',\n",
       " 'cdc',\n",
       " 'invoke',\n",
       " 'lock down',\n",
       " 'flattenthecurve',\n",
       " 'hydroxychloroquine',\n",
       " 'panicbuy',\n",
       " 'self isolate',\n",
       " 'covid',\n",
       " 'covid 19',\n",
       " 'testing']"
      ]
     },
     "execution_count": 51,
     "metadata": {},
     "output_type": "execute_result"
    }
   ],
   "source": [
    "lexicon60['covid']"
   ]
  },
  {
   "cell_type": "code",
   "execution_count": 52,
   "metadata": {},
   "outputs": [],
   "source": [
    "# with open ('2020_june_lexiconV4_1.json','w') as f2:\n",
    "# with open ('2020_june_lexiconV4_2.json','w') as f2:\n",
    "with open ('2020_june_lexiconV4_3.json','w') as f2:\n",
    "# with open ('2020_june_lexiconV4_4.json','w') as f2:\n",
    "    json.dump(lexicon60,f2,sort_keys=True, indent=4)"
   ]
  },
  {
   "cell_type": "code",
   "execution_count": 60,
   "metadata": {},
   "outputs": [],
   "source": [
    "lexicon75 = lexicon"
   ]
  },
  {
   "cell_type": "code",
   "execution_count": 61,
   "metadata": {},
   "outputs": [],
   "source": [
    "for key,value in ls_75.items():\n",
    "    for k,v in lexicon75.items():\n",
    "        if k==key:\n",
    "            v.extend(value)\n",
    "            \n",
    "with open ('2020_june_lexiconV3_6.json','w') as f2:\n",
    "    json.dump(lexicon75,f2,sort_keys=True, indent=4)"
   ]
  },
  {
   "cell_type": "code",
   "execution_count": 12,
   "metadata": {},
   "outputs": [],
   "source": [
    "for key,value in ls_70.items():\n",
    "    for k,v in lexicon70.items():\n",
    "        if k==key:\n",
    "            v.extend(value)\n"
   ]
  },
  {
   "cell_type": "code",
   "execution_count": 14,
   "metadata": {},
   "outputs": [],
   "source": [
    "for key,value in ls_60.items():\n",
    "    for k,v in lexicon60.items():\n",
    "        if k==key:\n",
    "            v.extend(value)"
   ]
  },
  {
   "cell_type": "code",
   "execution_count": 16,
   "metadata": {},
   "outputs": [],
   "source": [
    "for key,value in ls_50.items():\n",
    "    for k,v in lexicon50.items():\n",
    "        if k==key:\n",
    "            v.extend(value)"
   ]
  },
  {
   "cell_type": "code",
   "execution_count": 17,
   "metadata": {},
   "outputs": [],
   "source": [
    "with open ('2020_june_lexiconV4_4.json','w') as f2:\n",
    "    json.dump(lexicon50,f2,sort_keys=True, indent=4)"
   ]
  },
  {
   "cell_type": "code",
   "execution_count": 18,
   "metadata": {},
   "outputs": [
    {
     "name": "stdout",
     "output_type": "stream",
     "text": [
      "no such words\n"
     ]
    }
   ],
   "source": [
    "if 'emergency' in lexicon70['covid']:\n",
    "    print(True)\n",
    "if 'crisis' in lexicon70['covid']:\n",
    "    print(True)\n",
    "else:\n",
    "    print('no such words')"
   ]
  },
  {
   "cell_type": "code",
   "execution_count": 43,
   "metadata": {},
   "outputs": [
    {
     "data": {
      "text/plain": [
       "['tutor',\n",
       " 'debt financed education',\n",
       " 'english language learners',\n",
       " 'minority serving institutions',\n",
       " 'students low income',\n",
       " 'school climate',\n",
       " 'borrowers',\n",
       " 'pre school',\n",
       " 'student loan borrowers',\n",
       " 'special education',\n",
       " 'hbcus',\n",
       " 'school infrastructure',\n",
       " 'cancel student loan debt',\n",
       " 'students color',\n",
       " 'default',\n",
       " 'early education',\n",
       " 'public education',\n",
       " 'immigrant students',\n",
       " 'k 12 education',\n",
       " 'student debt',\n",
       " 'students schools',\n",
       " 'supports teachers',\n",
       " 'school service personnel',\n",
       " 'graduation',\n",
       " 'free college tuition',\n",
       " 'lgbtq students',\n",
       " 'college',\n",
       " 'college student',\n",
       " 'education',\n",
       " 'loans',\n",
       " 'public schools',\n",
       " 'school',\n",
       " 'student',\n",
       " 'teachers']"
      ]
     },
     "execution_count": 43,
     "metadata": {},
     "output_type": "execute_result"
    }
   ],
   "source": [
    "lexicon50['education']"
   ]
  },
  {
   "cell_type": "code",
   "execution_count": null,
   "metadata": {},
   "outputs": [],
   "source": []
  }
 ],
 "metadata": {
  "kernelspec": {
   "display_name": "Python 3",
   "language": "python",
   "name": "python3"
  },
  "language_info": {
   "codemirror_mode": {
    "name": "ipython",
    "version": 3
   },
   "file_extension": ".py",
   "mimetype": "text/x-python",
   "name": "python",
   "nbconvert_exporter": "python",
   "pygments_lexer": "ipython3",
   "version": "3.7.4"
  }
 },
 "nbformat": 4,
 "nbformat_minor": 2
}
