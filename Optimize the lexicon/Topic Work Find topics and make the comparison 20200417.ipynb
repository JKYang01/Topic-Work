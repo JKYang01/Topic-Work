{
 "cells": [
  {
   "cell_type": "code",
   "execution_count": 1,
   "metadata": {},
   "outputs": [],
   "source": [
    "import pandas as pd\n",
    "import csv\n",
    "import nltk\n",
    "import xml.etree.ElementTree as ET\n",
    "import json\n",
    "from nltk.util import everygrams"
   ]
  },
  {
   "cell_type": "code",
   "execution_count": 16,
   "metadata": {},
   "outputs": [],
   "source": [
    " df1 = pd.read_excel('the 500 FB ads file annotated ')"
   ]
  },
  {
   "cell_type": "code",
   "execution_count": null,
   "metadata": {},
   "outputs": [],
   "source": [
    "df1.head() # check the data "
   ]
  },
  {
   "cell_type": "code",
   "execution_count": 5,
   "metadata": {},
   "outputs": [],
   "source": [
    "# can skip this step depends on the data we get\n",
    "# the purpos of this step is getting the human annotation column (Correct topics)\n",
    "\n",
    "for index, row in df1.iterrows():\n",
    "    #print(index)\n",
    "    #print(row)\n",
    "    if row['False positive'].lower()=='no' and row['False Negative'].lower()=='no':\n",
    "        #row['Correct Topic(s)']=row['topic label']\n",
    "        df1.loc[index,'Correct Topic(s)']= row['topic label']"
   ]
  },
  {
   "cell_type": "code",
   "execution_count": 6,
   "metadata": {},
   "outputs": [],
   "source": [
    "# import the lexicon from json file lexicon_wz_2020.json \n",
    "# this lexicon is made from three files: lexicon.txt, lexiconSJ_Dec5_2017.txt and \n",
    "# final_word_lists - wordlists.csv(created by Ben who is the annotator)\n",
    "\n",
    "# Both lexicon.txt and lexiconSJ_Dec5_2017.txt are .xml format data, and the_new_lexicon.xlsx is an excel\n",
    "# I combined the lexicon of lexicon.txt with the \"govenance\" lexicon which come from lexiconSJ_Dec5_2017.txt and the_new_lexicon.xlsx\n",
    "# you can check thoes three files and get some idea about the lexicon\n",
    "\n",
    "# here we just import the lexicon lexicon_wz_2020.json first\n",
    "\n",
    "with open ('lexicon_wz_2020.json') as f:\n",
    "    \n",
    "    lexicon = json.load(f)\n",
    "\n"
   ]
  },
  {
   "cell_type": "code",
   "execution_count": 17,
   "metadata": {},
   "outputs": [
    {
     "data": {
      "text/plain": [
       "set()"
      ]
     },
     "execution_count": 17,
     "metadata": {},
     "output_type": "execute_result"
    }
   ],
   "source": [
    "# check the lexicon\n",
    "# I suggest checking the lexicon under each category, \n",
    "# compaire the lexicon of different categories and see whether they have words in common\n",
    "set(lexicon['Governance'])&set(lexicon['Immigration']) "
   ]
  },
  {
   "cell_type": "code",
   "execution_count": 9,
   "metadata": {},
   "outputs": [],
   "source": [
    "# find the words in each message\n",
    "def find_topic(x,lexicon):\n",
    "    topics=['Economic', 'Environment', 'Foreign policy', \n",
    "            'Governance', 'Immigration', 'Military', 'Safety',\n",
    "            'Social Programs', 'Social and Cultural']\n",
    "    token = [w for w in nltk.word_tokenize(x)]\n",
    "    words = [w for w in token if w.isalpha()]\n",
    "    # tokenize the ngrams from 1 to 7 words \n",
    "    # this step is optional you can use your own way to do tokenizing\n",
    "    ngrams = [' '.join(w) for w in everygrams(words,min_len=1,max_len=7)] \n",
    "    labels = []\n",
    "    \n",
    "    for t in topics:\n",
    "              \n",
    "        if set(ngrams)&set(lexicon[t]):\n",
    "            labels.append(t)\n",
    "            \n",
    "        else:\n",
    "            labels.append('nan') \n",
    "    \n",
    "    labels = [x for x in labels if str(x) != 'nan']\n",
    "    \n",
    "    if labels:\n",
    "        \n",
    "        return ','.join(labels)\n",
    "    else:\n",
    "        return \"no topic\""
   ]
  },
  {
   "cell_type": "code",
   "execution_count": 11,
   "metadata": {},
   "outputs": [],
   "source": [
    "# M_label is the label generated \n",
    "df1['M_label'] = df1['text'].apply(lambda x: find_topic(x,lexicon))"
   ]
  },
  {
   "cell_type": "code",
   "execution_count": 14,
   "metadata": {},
   "outputs": [
    {
     "name": "stdout",
     "output_type": "stream",
     "text": [
      "aggrement of label 0 and label 1  0.4106593782029382\n",
      "aggrement of label 2 and label 1  0.4106593782029382\n"
     ]
    }
   ],
   "source": [
    "## make comparison between human annotated data and the label we generated (M_label)\n",
    "## calculate the kappa score\n",
    "# label0  human annotated label Correct Topic(s)\n",
    "# label1 the label that geneated by the lexicon classifier\n",
    "\n",
    "from sklearn.metrics import cohen_kappa_score\n",
    "\n",
    "cohen_score1 = cohen_kappa_score(df1['Correct Topic(s)'].astype(str), df1['M_label'].astype(str))\n",
    "print(\"aggrement of label 0 and label 1  \" + str(cohen_score1))\n"
   ]
  }
 ],
 "metadata": {
  "kernelspec": {
   "display_name": "Python 3",
   "language": "python",
   "name": "python3"
  },
  "language_info": {
   "codemirror_mode": {
    "name": "ipython",
    "version": 3
   },
   "file_extension": ".py",
   "mimetype": "text/x-python",
   "name": "python",
   "nbconvert_exporter": "python",
   "pygments_lexer": "ipython3",
   "version": "3.7.4"
  }
 },
 "nbformat": 4,
 "nbformat_minor": 2
}
